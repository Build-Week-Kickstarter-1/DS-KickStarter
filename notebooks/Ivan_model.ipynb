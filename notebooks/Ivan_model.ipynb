{
 "metadata": {
  "language_info": {
   "codemirror_mode": {
    "name": "ipython",
    "version": 3
   },
   "file_extension": ".py",
   "mimetype": "text/x-python",
   "name": "python",
   "nbconvert_exporter": "python",
   "pygments_lexer": "ipython3",
   "version": "3.8.6-candidate"
  },
  "orig_nbformat": 2,
  "kernelspec": {
   "name": "python_defaultSpec_1600797216043",
   "display_name": "Python 3.8.6 64-bit ('DS-KickStarter': pipenv)"
  }
 },
 "nbformat": 4,
 "nbformat_minor": 2,
 "cells": [
  {
   "cell_type": "code",
   "execution_count": 1,
   "metadata": {},
   "outputs": [],
   "source": [
    "import pandas as pd \n",
    "import numpy as np\n",
    "from sklearn.model_selection import train_test_split\n",
    "from sklearn.feature_extraction.text import CountVectorizer\n",
    "from sklearn.pipeline import Pipeline\n",
    "from sklearn.metrics import accuracy_score, recall_score, plot_confusion_matrix\n",
    "from sklearn.linear_model import LogisticRegression\n",
    "from sklearn.preprocessing import LabelEncoder\n",
    "from datetime import datetime, timedelta\n",
    "from xgboost import XGBClassifier\n",
    "from sklearn.impute import SimpleImputer\n",
    "from sklearn.preprocessing import StandardScaler\n",
    "from sklearn.pipeline import make_pipeline\n",
    "from sklearn.model_selection import RandomizedSearchCV\n",
    "from sklearn.ensemble import RandomForestClassifier"
   ]
  },
  {
   "cell_type": "code",
   "execution_count": 84,
   "metadata": {},
   "outputs": [],
   "source": [
    "df = pd.read_csv('kickstarter_data_with_features.csv')"
   ]
  },
  {
   "cell_type": "code",
   "execution_count": 85,
   "metadata": {
    "tags": []
   },
   "outputs": [],
   "source": [
    "#These are the only columns we can use as input\n",
    "df = df[['name', 'goal', 'blurb', 'launched_at', 'deadline','category','state', 'country']]"
   ]
  },
  {
   "cell_type": "code",
   "execution_count": 86,
   "metadata": {},
   "outputs": [],
   "source": [
    "#filter out all countries not english-speaking\n",
    "english_countries = ['US', 'IE', 'GB', 'AU', 'CA', 'NZ', ]\n",
    "df= df[df['country'].isin(english_countries)]"
   ]
  },
  {
   "cell_type": "code",
   "execution_count": 56,
   "metadata": {},
   "outputs": [],
   "source": [
    "# df = pd.read_csv('ks-projects-201801.csv')"
   ]
  },
  {
   "cell_type": "code",
   "execution_count": 87,
   "metadata": {},
   "outputs": [],
   "source": [
    "#create 'success'filter which only shows failed or success and cuts out other options\n",
    "suc_filt = ['failed', 'successful', 'canceled']\n",
    "df = df[df['state'].isin(suc_filt)]\n",
    "# Convert fail or succuess to 0 or 1\n",
    "df['state'] = df['state'].replace({'failed': 0, 'successful': 1, 'canceled': 0})"
   ]
  },
  {
   "cell_type": "code",
   "execution_count": 88,
   "metadata": {},
   "outputs": [],
   "source": [
    "#Two seperate dataframes are created below, one of only success and one of only fail\n",
    "faileddf = df[df['state'] == 0]\n",
    "sucdf = df[df['state'] == 1]"
   ]
  },
  {
   "cell_type": "code",
   "execution_count": 89,
   "metadata": {},
   "outputs": [
    {
     "output_type": "execute_result",
     "data": {
      "text/plain": "0.4579348354676609"
     },
     "metadata": {},
     "execution_count": 89
    }
   ],
   "source": [
    "#Baseline prediction\n",
    "failed = len(faileddf)\n",
    "suc = len(sucdf)\n",
    "\n",
    "suc / failed"
   ]
  },
  {
   "cell_type": "code",
   "execution_count": 90,
   "metadata": {},
   "outputs": [],
   "source": [
    "df_nt = df[['goal', 'launched_at', 'deadline', 'country', 'state']]"
   ]
  },
  {
   "cell_type": "code",
   "execution_count": 91,
   "metadata": {},
   "outputs": [],
   "source": [
    "#convert time columns to campaign length\n",
    "df['deadline'] = df['deadline'].str[:10]\n",
    "df['launched_at'] = df['launched_at'].str[:10]\n",
    "df_nt['deadline'] = pd.to_datetime(df_nt['deadline'], format=\"%Y/%m/%d\")\n",
    "df_nt['launched_at'] = pd.to_datetime(df_nt['launched_at'], format=\"%Y/%m/%d\")\n",
    "\n",
    "df['deadline'] = pd.to_datetime(df['deadline'], format=\"%Y/%m/%d\")\n",
    "df['launched_at'] = pd.to_datetime(df['launched_at'], format=\"%Y/%m/%d\")\n",
    "#create new column\n",
    "df_nt['cam_length'] = df_nt['deadline'] - df_nt['launched_at']\n",
    "df['cam_length'] = df['deadline'] - df['launched_at']"
   ]
  },
  {
   "cell_type": "code",
   "execution_count": 92,
   "metadata": {},
   "outputs": [
    {
     "output_type": "execute_result",
     "data": {
      "text/plain": "                                                    name      goal  \\\n0      Auntie Di's Music Time Sign ASL for Hearing an...    1500.0   \n1                        Jump Start Kindergarten Toolkit     500.0   \n2      Ojukwu Balewa Awolowo (O.B.A.) Public Library ...  100000.0   \n3          MASTIZE - [mas-TAHYZ, MAS-tahyz]  - to spread    5000.0   \n5      Shadow School Board - Reforming Texas School B...   13000.0   \n...                                                  ...       ...   \n20625            Private.Center - Private Social Network   20000.0   \n20626  Pathfinder Adventure Card Game Character Track...    5000.0   \n20629                                     Sloth Face App   10000.0   \n20630                                        DriverTools    2500.0   \n20631                                    Let's Trail app   50000.0   \n\n                                                   blurb launched_at  \\\n0      MTS ASL Curriculum Workbook is a reproducible ...  2014-12-17   \n1      This kit teaches how to print, correct an ugly...  2015-03-02   \n2      Establishing a free, world-class, public libra...  2015-01-25   \n3      Goal: Introducing a new word into the English ...  2014-09-06   \n5      Shadow School Board will provide parents & tax...  2015-10-21   \n...                                                  ...         ...   \n20625  Private.Center - the Private Social Network is...  2015-12-17   \n20626  A companion app for the Pathfinder Adventure C...  2016-05-26   \n20629  We all love fatbooth and Ugly booth, why not s...  2015-02-13   \n20630  Production android app for cab drivers and tru...  2015-04-20   \n20631  We recently launched version 1 of our unique t...  2014-10-21   \n\n        deadline  category  state country cam_length  \n0     2015-01-23  Academic      0      US    37 days  \n1     2015-05-01  Academic      0      US    60 days  \n2     2015-03-26  Academic      0      US    60 days  \n3     2014-10-06  Academic      0      US    30 days  \n5     2015-11-20  Academic      0      US    30 days  \n...          ...       ...    ...     ...        ...  \n20625 2016-02-15      Apps      0      GB    60 days  \n20626 2016-07-01      Apps      0      AU    36 days  \n20629 2015-04-14      Apps      0      US    60 days  \n20630 2015-05-20      Apps      0      US    30 days  \n20631 2014-11-20      Apps      0      IE    30 days  \n\n[17988 rows x 9 columns]",
      "text/html": "<div>\n<style scoped>\n    .dataframe tbody tr th:only-of-type {\n        vertical-align: middle;\n    }\n\n    .dataframe tbody tr th {\n        vertical-align: top;\n    }\n\n    .dataframe thead th {\n        text-align: right;\n    }\n</style>\n<table border=\"1\" class=\"dataframe\">\n  <thead>\n    <tr style=\"text-align: right;\">\n      <th></th>\n      <th>name</th>\n      <th>goal</th>\n      <th>blurb</th>\n      <th>launched_at</th>\n      <th>deadline</th>\n      <th>category</th>\n      <th>state</th>\n      <th>country</th>\n      <th>cam_length</th>\n    </tr>\n  </thead>\n  <tbody>\n    <tr>\n      <th>0</th>\n      <td>Auntie Di's Music Time Sign ASL for Hearing an...</td>\n      <td>1500.0</td>\n      <td>MTS ASL Curriculum Workbook is a reproducible ...</td>\n      <td>2014-12-17</td>\n      <td>2015-01-23</td>\n      <td>Academic</td>\n      <td>0</td>\n      <td>US</td>\n      <td>37 days</td>\n    </tr>\n    <tr>\n      <th>1</th>\n      <td>Jump Start Kindergarten Toolkit</td>\n      <td>500.0</td>\n      <td>This kit teaches how to print, correct an ugly...</td>\n      <td>2015-03-02</td>\n      <td>2015-05-01</td>\n      <td>Academic</td>\n      <td>0</td>\n      <td>US</td>\n      <td>60 days</td>\n    </tr>\n    <tr>\n      <th>2</th>\n      <td>Ojukwu Balewa Awolowo (O.B.A.) Public Library ...</td>\n      <td>100000.0</td>\n      <td>Establishing a free, world-class, public libra...</td>\n      <td>2015-01-25</td>\n      <td>2015-03-26</td>\n      <td>Academic</td>\n      <td>0</td>\n      <td>US</td>\n      <td>60 days</td>\n    </tr>\n    <tr>\n      <th>3</th>\n      <td>MASTIZE - [mas-TAHYZ, MAS-tahyz]  - to spread</td>\n      <td>5000.0</td>\n      <td>Goal: Introducing a new word into the English ...</td>\n      <td>2014-09-06</td>\n      <td>2014-10-06</td>\n      <td>Academic</td>\n      <td>0</td>\n      <td>US</td>\n      <td>30 days</td>\n    </tr>\n    <tr>\n      <th>5</th>\n      <td>Shadow School Board - Reforming Texas School B...</td>\n      <td>13000.0</td>\n      <td>Shadow School Board will provide parents &amp; tax...</td>\n      <td>2015-10-21</td>\n      <td>2015-11-20</td>\n      <td>Academic</td>\n      <td>0</td>\n      <td>US</td>\n      <td>30 days</td>\n    </tr>\n    <tr>\n      <th>...</th>\n      <td>...</td>\n      <td>...</td>\n      <td>...</td>\n      <td>...</td>\n      <td>...</td>\n      <td>...</td>\n      <td>...</td>\n      <td>...</td>\n      <td>...</td>\n    </tr>\n    <tr>\n      <th>20625</th>\n      <td>Private.Center - Private Social Network</td>\n      <td>20000.0</td>\n      <td>Private.Center - the Private Social Network is...</td>\n      <td>2015-12-17</td>\n      <td>2016-02-15</td>\n      <td>Apps</td>\n      <td>0</td>\n      <td>GB</td>\n      <td>60 days</td>\n    </tr>\n    <tr>\n      <th>20626</th>\n      <td>Pathfinder Adventure Card Game Character Track...</td>\n      <td>5000.0</td>\n      <td>A companion app for the Pathfinder Adventure C...</td>\n      <td>2016-05-26</td>\n      <td>2016-07-01</td>\n      <td>Apps</td>\n      <td>0</td>\n      <td>AU</td>\n      <td>36 days</td>\n    </tr>\n    <tr>\n      <th>20629</th>\n      <td>Sloth Face App</td>\n      <td>10000.0</td>\n      <td>We all love fatbooth and Ugly booth, why not s...</td>\n      <td>2015-02-13</td>\n      <td>2015-04-14</td>\n      <td>Apps</td>\n      <td>0</td>\n      <td>US</td>\n      <td>60 days</td>\n    </tr>\n    <tr>\n      <th>20630</th>\n      <td>DriverTools</td>\n      <td>2500.0</td>\n      <td>Production android app for cab drivers and tru...</td>\n      <td>2015-04-20</td>\n      <td>2015-05-20</td>\n      <td>Apps</td>\n      <td>0</td>\n      <td>US</td>\n      <td>30 days</td>\n    </tr>\n    <tr>\n      <th>20631</th>\n      <td>Let's Trail app</td>\n      <td>50000.0</td>\n      <td>We recently launched version 1 of our unique t...</td>\n      <td>2014-10-21</td>\n      <td>2014-11-20</td>\n      <td>Apps</td>\n      <td>0</td>\n      <td>IE</td>\n      <td>30 days</td>\n    </tr>\n  </tbody>\n</table>\n<p>17988 rows × 9 columns</p>\n</div>"
     },
     "metadata": {},
     "execution_count": 92
    }
   ],
   "source": [
    "df"
   ]
  },
  {
   "cell_type": "code",
   "execution_count": 93,
   "metadata": {},
   "outputs": [],
   "source": [
    "lb_make = LabelEncoder()\n",
    "#df_nt[\"cam_length\"] = lb_make.fit_transform(df_nt[\"cam_length\"])\n",
    "df[\"cam_length\"] = lb_make.fit_transform(df[\"cam_length\"])"
   ]
  },
  {
   "cell_type": "code",
   "execution_count": 66,
   "metadata": {},
   "outputs": [],
   "source": [
    "# df_nt = df_nt[['goal', 'cam_length', 'state']]"
   ]
  },
  {
   "cell_type": "code",
   "execution_count": 94,
   "metadata": {},
   "outputs": [
    {
     "output_type": "execute_result",
     "data": {
      "text/plain": "                                                    name      goal  \\\n0      Auntie Di's Music Time Sign ASL for Hearing an...    1500.0   \n1                        Jump Start Kindergarten Toolkit     500.0   \n2      Ojukwu Balewa Awolowo (O.B.A.) Public Library ...  100000.0   \n3          MASTIZE - [mas-TAHYZ, MAS-tahyz]  - to spread    5000.0   \n5      Shadow School Board - Reforming Texas School B...   13000.0   \n...                                                  ...       ...   \n20625            Private.Center - Private Social Network   20000.0   \n20626  Pathfinder Adventure Card Game Character Track...    5000.0   \n20629                                     Sloth Face App   10000.0   \n20630                                        DriverTools    2500.0   \n20631                                    Let's Trail app   50000.0   \n\n                                                   blurb launched_at  \\\n0      MTS ASL Curriculum Workbook is a reproducible ...  2014-12-17   \n1      This kit teaches how to print, correct an ugly...  2015-03-02   \n2      Establishing a free, world-class, public libra...  2015-01-25   \n3      Goal: Introducing a new word into the English ...  2014-09-06   \n5      Shadow School Board will provide parents & tax...  2015-10-21   \n...                                                  ...         ...   \n20625  Private.Center - the Private Social Network is...  2015-12-17   \n20626  A companion app for the Pathfinder Adventure C...  2016-05-26   \n20629  We all love fatbooth and Ugly booth, why not s...  2015-02-13   \n20630  Production android app for cab drivers and tru...  2015-04-20   \n20631  We recently launched version 1 of our unique t...  2014-10-21   \n\n        deadline  category  state country  cam_length  \n0     2015-01-23  Academic      0      US          36  \n1     2015-05-01  Academic      0      US          59  \n2     2015-03-26  Academic      0      US          59  \n3     2014-10-06  Academic      0      US          29  \n5     2015-11-20  Academic      0      US          29  \n...          ...       ...    ...     ...         ...  \n20625 2016-02-15      Apps      0      GB          59  \n20626 2016-07-01      Apps      0      AU          35  \n20629 2015-04-14      Apps      0      US          59  \n20630 2015-05-20      Apps      0      US          29  \n20631 2014-11-20      Apps      0      IE          29  \n\n[17988 rows x 9 columns]",
      "text/html": "<div>\n<style scoped>\n    .dataframe tbody tr th:only-of-type {\n        vertical-align: middle;\n    }\n\n    .dataframe tbody tr th {\n        vertical-align: top;\n    }\n\n    .dataframe thead th {\n        text-align: right;\n    }\n</style>\n<table border=\"1\" class=\"dataframe\">\n  <thead>\n    <tr style=\"text-align: right;\">\n      <th></th>\n      <th>name</th>\n      <th>goal</th>\n      <th>blurb</th>\n      <th>launched_at</th>\n      <th>deadline</th>\n      <th>category</th>\n      <th>state</th>\n      <th>country</th>\n      <th>cam_length</th>\n    </tr>\n  </thead>\n  <tbody>\n    <tr>\n      <th>0</th>\n      <td>Auntie Di's Music Time Sign ASL for Hearing an...</td>\n      <td>1500.0</td>\n      <td>MTS ASL Curriculum Workbook is a reproducible ...</td>\n      <td>2014-12-17</td>\n      <td>2015-01-23</td>\n      <td>Academic</td>\n      <td>0</td>\n      <td>US</td>\n      <td>36</td>\n    </tr>\n    <tr>\n      <th>1</th>\n      <td>Jump Start Kindergarten Toolkit</td>\n      <td>500.0</td>\n      <td>This kit teaches how to print, correct an ugly...</td>\n      <td>2015-03-02</td>\n      <td>2015-05-01</td>\n      <td>Academic</td>\n      <td>0</td>\n      <td>US</td>\n      <td>59</td>\n    </tr>\n    <tr>\n      <th>2</th>\n      <td>Ojukwu Balewa Awolowo (O.B.A.) Public Library ...</td>\n      <td>100000.0</td>\n      <td>Establishing a free, world-class, public libra...</td>\n      <td>2015-01-25</td>\n      <td>2015-03-26</td>\n      <td>Academic</td>\n      <td>0</td>\n      <td>US</td>\n      <td>59</td>\n    </tr>\n    <tr>\n      <th>3</th>\n      <td>MASTIZE - [mas-TAHYZ, MAS-tahyz]  - to spread</td>\n      <td>5000.0</td>\n      <td>Goal: Introducing a new word into the English ...</td>\n      <td>2014-09-06</td>\n      <td>2014-10-06</td>\n      <td>Academic</td>\n      <td>0</td>\n      <td>US</td>\n      <td>29</td>\n    </tr>\n    <tr>\n      <th>5</th>\n      <td>Shadow School Board - Reforming Texas School B...</td>\n      <td>13000.0</td>\n      <td>Shadow School Board will provide parents &amp; tax...</td>\n      <td>2015-10-21</td>\n      <td>2015-11-20</td>\n      <td>Academic</td>\n      <td>0</td>\n      <td>US</td>\n      <td>29</td>\n    </tr>\n    <tr>\n      <th>...</th>\n      <td>...</td>\n      <td>...</td>\n      <td>...</td>\n      <td>...</td>\n      <td>...</td>\n      <td>...</td>\n      <td>...</td>\n      <td>...</td>\n      <td>...</td>\n    </tr>\n    <tr>\n      <th>20625</th>\n      <td>Private.Center - Private Social Network</td>\n      <td>20000.0</td>\n      <td>Private.Center - the Private Social Network is...</td>\n      <td>2015-12-17</td>\n      <td>2016-02-15</td>\n      <td>Apps</td>\n      <td>0</td>\n      <td>GB</td>\n      <td>59</td>\n    </tr>\n    <tr>\n      <th>20626</th>\n      <td>Pathfinder Adventure Card Game Character Track...</td>\n      <td>5000.0</td>\n      <td>A companion app for the Pathfinder Adventure C...</td>\n      <td>2016-05-26</td>\n      <td>2016-07-01</td>\n      <td>Apps</td>\n      <td>0</td>\n      <td>AU</td>\n      <td>35</td>\n    </tr>\n    <tr>\n      <th>20629</th>\n      <td>Sloth Face App</td>\n      <td>10000.0</td>\n      <td>We all love fatbooth and Ugly booth, why not s...</td>\n      <td>2015-02-13</td>\n      <td>2015-04-14</td>\n      <td>Apps</td>\n      <td>0</td>\n      <td>US</td>\n      <td>59</td>\n    </tr>\n    <tr>\n      <th>20630</th>\n      <td>DriverTools</td>\n      <td>2500.0</td>\n      <td>Production android app for cab drivers and tru...</td>\n      <td>2015-04-20</td>\n      <td>2015-05-20</td>\n      <td>Apps</td>\n      <td>0</td>\n      <td>US</td>\n      <td>29</td>\n    </tr>\n    <tr>\n      <th>20631</th>\n      <td>Let's Trail app</td>\n      <td>50000.0</td>\n      <td>We recently launched version 1 of our unique t...</td>\n      <td>2014-10-21</td>\n      <td>2014-11-20</td>\n      <td>Apps</td>\n      <td>0</td>\n      <td>IE</td>\n      <td>29</td>\n    </tr>\n  </tbody>\n</table>\n<p>17988 rows × 9 columns</p>\n</div>"
     },
     "metadata": {},
     "execution_count": 94
    }
   ],
   "source": [
    "df"
   ]
  },
  {
   "cell_type": "code",
   "execution_count": 96,
   "metadata": {},
   "outputs": [],
   "source": [
    "df = df[['name', 'goal', 'blurb', 'state', 'cam_length']]\n",
    "NUMERIC_COLUMNS = ['goal', \"cam_length\", ]\n",
    "LABELS = ['state']\n",
    "numeric_data_only = df[NUMERIC_COLUMNS]\n",
    "NON_LABELS = [c for c in df.columns if c not in LABELS]\n",
    "TEXT_COLUMNS = [c for c in NON_LABELS if c not in NUMERIC_COLUMNS]"
   ]
  },
  {
   "cell_type": "code",
   "execution_count": 97,
   "metadata": {},
   "outputs": [],
   "source": [
    "def declare(df):\n",
    "    NUMERIC_COLUMNS = ['goal', \"cam_length\"]\n",
    "    LABELS = ['state']\n",
    "    numeric_data_only = df[NUMERIC_COLUMNS]\n",
    "    NON_LABELS = [c for c in df.columns if c not in LABELS]\n",
    "    TEXT_COLUMNS = [c for c in NON_LABELS if c not in NUMERIC_COLUMNS]\n",
    "\n",
    "    return df"
   ]
  },
  {
   "cell_type": "code",
   "execution_count": 98,
   "metadata": {},
   "outputs": [
    {
     "output_type": "execute_result",
     "data": {
      "text/plain": "                                                    name      goal  \\\n0      Auntie Di's Music Time Sign ASL for Hearing an...    1500.0   \n1                        Jump Start Kindergarten Toolkit     500.0   \n2      Ojukwu Balewa Awolowo (O.B.A.) Public Library ...  100000.0   \n3          MASTIZE - [mas-TAHYZ, MAS-tahyz]  - to spread    5000.0   \n5      Shadow School Board - Reforming Texas School B...   13000.0   \n...                                                  ...       ...   \n20625            Private.Center - Private Social Network   20000.0   \n20626  Pathfinder Adventure Card Game Character Track...    5000.0   \n20629                                     Sloth Face App   10000.0   \n20630                                        DriverTools    2500.0   \n20631                                    Let's Trail app   50000.0   \n\n                                                   blurb  state  cam_length  \n0      MTS ASL Curriculum Workbook is a reproducible ...      0          36  \n1      This kit teaches how to print, correct an ugly...      0          59  \n2      Establishing a free, world-class, public libra...      0          59  \n3      Goal: Introducing a new word into the English ...      0          29  \n5      Shadow School Board will provide parents & tax...      0          29  \n...                                                  ...    ...         ...  \n20625  Private.Center - the Private Social Network is...      0          59  \n20626  A companion app for the Pathfinder Adventure C...      0          35  \n20629  We all love fatbooth and Ugly booth, why not s...      0          59  \n20630  Production android app for cab drivers and tru...      0          29  \n20631  We recently launched version 1 of our unique t...      0          29  \n\n[17988 rows x 5 columns]",
      "text/html": "<div>\n<style scoped>\n    .dataframe tbody tr th:only-of-type {\n        vertical-align: middle;\n    }\n\n    .dataframe tbody tr th {\n        vertical-align: top;\n    }\n\n    .dataframe thead th {\n        text-align: right;\n    }\n</style>\n<table border=\"1\" class=\"dataframe\">\n  <thead>\n    <tr style=\"text-align: right;\">\n      <th></th>\n      <th>name</th>\n      <th>goal</th>\n      <th>blurb</th>\n      <th>state</th>\n      <th>cam_length</th>\n    </tr>\n  </thead>\n  <tbody>\n    <tr>\n      <th>0</th>\n      <td>Auntie Di's Music Time Sign ASL for Hearing an...</td>\n      <td>1500.0</td>\n      <td>MTS ASL Curriculum Workbook is a reproducible ...</td>\n      <td>0</td>\n      <td>36</td>\n    </tr>\n    <tr>\n      <th>1</th>\n      <td>Jump Start Kindergarten Toolkit</td>\n      <td>500.0</td>\n      <td>This kit teaches how to print, correct an ugly...</td>\n      <td>0</td>\n      <td>59</td>\n    </tr>\n    <tr>\n      <th>2</th>\n      <td>Ojukwu Balewa Awolowo (O.B.A.) Public Library ...</td>\n      <td>100000.0</td>\n      <td>Establishing a free, world-class, public libra...</td>\n      <td>0</td>\n      <td>59</td>\n    </tr>\n    <tr>\n      <th>3</th>\n      <td>MASTIZE - [mas-TAHYZ, MAS-tahyz]  - to spread</td>\n      <td>5000.0</td>\n      <td>Goal: Introducing a new word into the English ...</td>\n      <td>0</td>\n      <td>29</td>\n    </tr>\n    <tr>\n      <th>5</th>\n      <td>Shadow School Board - Reforming Texas School B...</td>\n      <td>13000.0</td>\n      <td>Shadow School Board will provide parents &amp; tax...</td>\n      <td>0</td>\n      <td>29</td>\n    </tr>\n    <tr>\n      <th>...</th>\n      <td>...</td>\n      <td>...</td>\n      <td>...</td>\n      <td>...</td>\n      <td>...</td>\n    </tr>\n    <tr>\n      <th>20625</th>\n      <td>Private.Center - Private Social Network</td>\n      <td>20000.0</td>\n      <td>Private.Center - the Private Social Network is...</td>\n      <td>0</td>\n      <td>59</td>\n    </tr>\n    <tr>\n      <th>20626</th>\n      <td>Pathfinder Adventure Card Game Character Track...</td>\n      <td>5000.0</td>\n      <td>A companion app for the Pathfinder Adventure C...</td>\n      <td>0</td>\n      <td>35</td>\n    </tr>\n    <tr>\n      <th>20629</th>\n      <td>Sloth Face App</td>\n      <td>10000.0</td>\n      <td>We all love fatbooth and Ugly booth, why not s...</td>\n      <td>0</td>\n      <td>59</td>\n    </tr>\n    <tr>\n      <th>20630</th>\n      <td>DriverTools</td>\n      <td>2500.0</td>\n      <td>Production android app for cab drivers and tru...</td>\n      <td>0</td>\n      <td>29</td>\n    </tr>\n    <tr>\n      <th>20631</th>\n      <td>Let's Trail app</td>\n      <td>50000.0</td>\n      <td>We recently launched version 1 of our unique t...</td>\n      <td>0</td>\n      <td>29</td>\n    </tr>\n  </tbody>\n</table>\n<p>17988 rows × 5 columns</p>\n</div>"
     },
     "metadata": {},
     "execution_count": 98
    }
   ],
   "source": [
    "declare(df)"
   ]
  },
  {
   "cell_type": "code",
   "execution_count": 99,
   "metadata": {},
   "outputs": [
    {
     "output_type": "execute_result",
     "data": {
      "text/plain": "                                                    name      goal  \\\n0      Auntie Di's Music Time Sign ASL for Hearing an...    1500.0   \n1                        Jump Start Kindergarten Toolkit     500.0   \n2      Ojukwu Balewa Awolowo (O.B.A.) Public Library ...  100000.0   \n3          MASTIZE - [mas-TAHYZ, MAS-tahyz]  - to spread    5000.0   \n5      Shadow School Board - Reforming Texas School B...   13000.0   \n...                                                  ...       ...   \n20625            Private.Center - Private Social Network   20000.0   \n20626  Pathfinder Adventure Card Game Character Track...    5000.0   \n20629                                     Sloth Face App   10000.0   \n20630                                        DriverTools    2500.0   \n20631                                    Let's Trail app   50000.0   \n\n                                                   blurb  state  cam_length  \n0      MTS ASL Curriculum Workbook is a reproducible ...      0          36  \n1      This kit teaches how to print, correct an ugly...      0          59  \n2      Establishing a free, world-class, public libra...      0          59  \n3      Goal: Introducing a new word into the English ...      0          29  \n5      Shadow School Board will provide parents & tax...      0          29  \n...                                                  ...    ...         ...  \n20625  Private.Center - the Private Social Network is...      0          59  \n20626  A companion app for the Pathfinder Adventure C...      0          35  \n20629  We all love fatbooth and Ugly booth, why not s...      0          59  \n20630  Production android app for cab drivers and tru...      0          29  \n20631  We recently launched version 1 of our unique t...      0          29  \n\n[17988 rows x 5 columns]",
      "text/html": "<div>\n<style scoped>\n    .dataframe tbody tr th:only-of-type {\n        vertical-align: middle;\n    }\n\n    .dataframe tbody tr th {\n        vertical-align: top;\n    }\n\n    .dataframe thead th {\n        text-align: right;\n    }\n</style>\n<table border=\"1\" class=\"dataframe\">\n  <thead>\n    <tr style=\"text-align: right;\">\n      <th></th>\n      <th>name</th>\n      <th>goal</th>\n      <th>blurb</th>\n      <th>state</th>\n      <th>cam_length</th>\n    </tr>\n  </thead>\n  <tbody>\n    <tr>\n      <th>0</th>\n      <td>Auntie Di's Music Time Sign ASL for Hearing an...</td>\n      <td>1500.0</td>\n      <td>MTS ASL Curriculum Workbook is a reproducible ...</td>\n      <td>0</td>\n      <td>36</td>\n    </tr>\n    <tr>\n      <th>1</th>\n      <td>Jump Start Kindergarten Toolkit</td>\n      <td>500.0</td>\n      <td>This kit teaches how to print, correct an ugly...</td>\n      <td>0</td>\n      <td>59</td>\n    </tr>\n    <tr>\n      <th>2</th>\n      <td>Ojukwu Balewa Awolowo (O.B.A.) Public Library ...</td>\n      <td>100000.0</td>\n      <td>Establishing a free, world-class, public libra...</td>\n      <td>0</td>\n      <td>59</td>\n    </tr>\n    <tr>\n      <th>3</th>\n      <td>MASTIZE - [mas-TAHYZ, MAS-tahyz]  - to spread</td>\n      <td>5000.0</td>\n      <td>Goal: Introducing a new word into the English ...</td>\n      <td>0</td>\n      <td>29</td>\n    </tr>\n    <tr>\n      <th>5</th>\n      <td>Shadow School Board - Reforming Texas School B...</td>\n      <td>13000.0</td>\n      <td>Shadow School Board will provide parents &amp; tax...</td>\n      <td>0</td>\n      <td>29</td>\n    </tr>\n    <tr>\n      <th>...</th>\n      <td>...</td>\n      <td>...</td>\n      <td>...</td>\n      <td>...</td>\n      <td>...</td>\n    </tr>\n    <tr>\n      <th>20625</th>\n      <td>Private.Center - Private Social Network</td>\n      <td>20000.0</td>\n      <td>Private.Center - the Private Social Network is...</td>\n      <td>0</td>\n      <td>59</td>\n    </tr>\n    <tr>\n      <th>20626</th>\n      <td>Pathfinder Adventure Card Game Character Track...</td>\n      <td>5000.0</td>\n      <td>A companion app for the Pathfinder Adventure C...</td>\n      <td>0</td>\n      <td>35</td>\n    </tr>\n    <tr>\n      <th>20629</th>\n      <td>Sloth Face App</td>\n      <td>10000.0</td>\n      <td>We all love fatbooth and Ugly booth, why not s...</td>\n      <td>0</td>\n      <td>59</td>\n    </tr>\n    <tr>\n      <th>20630</th>\n      <td>DriverTools</td>\n      <td>2500.0</td>\n      <td>Production android app for cab drivers and tru...</td>\n      <td>0</td>\n      <td>29</td>\n    </tr>\n    <tr>\n      <th>20631</th>\n      <td>Let's Trail app</td>\n      <td>50000.0</td>\n      <td>We recently launched version 1 of our unique t...</td>\n      <td>0</td>\n      <td>29</td>\n    </tr>\n  </tbody>\n</table>\n<p>17988 rows × 5 columns</p>\n</div>"
     },
     "metadata": {},
     "execution_count": 99
    }
   ],
   "source": [
    "df"
   ]
  },
  {
   "cell_type": "code",
   "execution_count": 100,
   "metadata": {},
   "outputs": [],
   "source": [
    "# split into train test\n",
    "dummy_labels = pd.get_dummies(df[LABELS])\n",
    "\n",
    "X_train, X_test, y_train, y_test = train_test_split(df[['goal', 'cam_length']], df['state'],train_size=0.80, test_size=0.20, stratify= df['state'], random_state=3)"
   ]
  },
  {
   "cell_type": "code",
   "execution_count": 101,
   "metadata": {},
   "outputs": [],
   "source": [
    "pipe = make_pipeline(\n",
    "    SimpleImputer(strategy='mean'),\n",
    "    StandardScaler(),\n",
    "    XGBClassifier()\n",
    ")"
   ]
  },
  {
   "cell_type": "code",
   "execution_count": 102,
   "metadata": {},
   "outputs": [
    {
     "output_type": "execute_result",
     "data": {
      "text/plain": "Pipeline(steps=[('simpleimputer', SimpleImputer()),\n                ('standardscaler', StandardScaler()),\n                ('xgbclassifier',\n                 XGBClassifier(base_score=0.5, booster='gbtree',\n                               colsample_bylevel=1, colsample_bynode=1,\n                               colsample_bytree=1, gamma=0, gpu_id=-1,\n                               importance_type='gain',\n                               interaction_constraints='',\n                               learning_rate=0.300000012, max_delta_step=0,\n                               max_depth=6, min_child_weight=1, missing=nan,\n                               monotone_constraints='()', n_estimators=100,\n                               n_jobs=0, num_parallel_tree=1, random_state=0,\n                               reg_alpha=0, reg_lambda=1, scale_pos_weight=1,\n                               subsample=1, tree_method='exact',\n                               validate_parameters=1, verbosity=None))])"
     },
     "metadata": {},
     "execution_count": 102
    }
   ],
   "source": [
    "pipe.fit(X_train, y_train)"
   ]
  },
  {
   "cell_type": "code",
   "execution_count": 103,
   "metadata": {},
   "outputs": [],
   "source": [
    "pipe_pred = pipe.predict(X_test)"
   ]
  },
  {
   "cell_type": "code",
   "execution_count": 104,
   "metadata": {},
   "outputs": [
    {
     "output_type": "execute_result",
     "data": {
      "text/plain": "0.7120622568093385"
     },
     "metadata": {},
     "execution_count": 104
    }
   ],
   "source": [
    "accuracy_score(pipe_pred,y_test)"
   ]
  },
  {
   "cell_type": "code",
   "execution_count": 105,
   "metadata": {
    "tags": []
   },
   "outputs": [
    {
     "output_type": "stream",
     "name": "stdout",
     "text": "Fitting 7 folds for each of 160 candidates, totalling 1120 fits\n[Parallel(n_jobs=-1)]: Using backend LokyBackend with 12 concurrent workers.\n[Parallel(n_jobs=-1)]: Done  26 tasks      | elapsed:    2.9s\n[Parallel(n_jobs=-1)]: Done 176 tasks      | elapsed:    4.8s\n[Parallel(n_jobs=-1)]: Done 426 tasks      | elapsed:    8.7s\n[Parallel(n_jobs=-1)]: Done 776 tasks      | elapsed:   13.7s\nBest Score: 0.702570805083657\nBest param: {'simpleimputer__strategy': 'mean', 'randomforestclassifier__min_samples_split': 8, 'randomforestclassifier__max_depth': 8, 'randomforestclassifier__criterion': 'entropy'}\nBest estimaator: Pipeline(steps=[('simpleimputer', SimpleImputer()),\n                ('standardscaler', StandardScaler()),\n                ('randomforestclassifier',\n                 RandomForestClassifier(criterion='entropy', max_depth=8,\n                                        min_samples_split=8, n_estimators=9,\n                                        n_jobs=1, random_state=42))])\nWall time: 19.6 s\n[Parallel(n_jobs=-1)]: Done 1120 out of 1120 | elapsed:   19.4s finished\n"
    }
   ],
   "source": [
    "%%time\n",
    "pipeline = make_pipeline(\n",
    "    SimpleImputer(strategy='mean'),\n",
    "    StandardScaler(),\n",
    "    RandomForestClassifier(\n",
    "        n_jobs=1,\n",
    "        random_state=42,\n",
    "        n_estimators=9,\n",
    "    )\n",
    ")\n",
    "\n",
    "param_distributions = {\n",
    "    'simpleimputer__strategy': ['mean', 'median'],\n",
    "    'randomforestclassifier__criterion': ('gini', 'entropy'),\n",
    "    'randomforestclassifier__max_depth': (8,10,12,14,15,16,20,25),\n",
    "    'randomforestclassifier__min_samples_split': (2,4,6,8,10)\n",
    "}\n",
    "\n",
    "search = RandomizedSearchCV(\n",
    "    pipeline,\n",
    "    param_distributions=param_distributions,\n",
    "    n_iter=240,\n",
    "    cv=7,\n",
    "    scoring='accuracy',\n",
    "    verbose=1,\n",
    "    return_train_score=True,\n",
    "    n_jobs=-1,\n",
    ")\n",
    "\n",
    "search.fit(X_train,y_train)\n",
    "\n",
    "print('Best Score:',search.best_score_)\n",
    "print('Best param:',search.best_params_)\n",
    "print('Best estimaator:', search.best_estimator_)"
   ]
  },
  {
   "cell_type": "code",
   "execution_count": 106,
   "metadata": {
    "tags": []
   },
   "outputs": [
    {
     "output_type": "stream",
     "name": "stdout",
     "text": "Wall time: 4.56 s\n"
    },
    {
     "output_type": "execute_result",
     "data": {
      "text/plain": "Pipeline(steps=[('simpleimputer', SimpleImputer()),\n                ('standardscaler', StandardScaler()),\n                ('randomforestclassifier',\n                 RandomForestClassifier(criterion='entropy', max_depth=8,\n                                        min_samples_split=8, n_estimators=999,\n                                        n_jobs=1, random_state=42))])"
     },
     "metadata": {},
     "execution_count": 106
    }
   ],
   "source": [
    "%%time\n",
    "pipe2 = make_pipeline(\n",
    "    SimpleImputer(strategy='mean'),\n",
    "    StandardScaler(),\n",
    "    RandomForestClassifier(criterion='entropy', max_depth=8,\n",
    "                                        min_samples_split=8, n_estimators=999,\n",
    "                                        n_jobs=-1, random_state=42)\n",
    "    )\n",
    "\n",
    "pipe2.fit(X_train,y_train)"
   ]
  },
  {
   "cell_type": "code",
   "execution_count": 107,
   "metadata": {
    "tags": []
   },
   "outputs": [],
   "source": [
    "pipe2_pred = pipe2.predict(X_test)"
   ]
  },
  {
   "cell_type": "code",
   "execution_count": 108,
   "metadata": {},
   "outputs": [
    {
     "output_type": "execute_result",
     "data": {
      "text/plain": "0.717065036131184"
     },
     "metadata": {},
     "execution_count": 108
    }
   ],
   "source": [
    "accuracy_score(pipe2_pred,y_test)"
   ]
  },
  {
   "cell_type": "code",
   "execution_count": 132,
   "metadata": {},
   "outputs": [],
   "source": [
    "import pickle"
   ]
  },
  {
   "cell_type": "code",
   "execution_count": 116,
   "metadata": {},
   "outputs": [],
   "source": [
    "dill = pickle.dump(pipe2, open( \"kickstarter.pkl\", \"wb\" ) )"
   ]
  },
  {
   "cell_type": "code",
   "execution_count": 128,
   "metadata": {},
   "outputs": [],
   "source": [
    "file_pickle = open(\"kickstarter.pkl\",'rb')"
   ]
  },
  {
   "cell_type": "code",
   "execution_count": 129,
   "metadata": {},
   "outputs": [],
   "source": [
    "clf2 = pickle.load(file_pickle)"
   ]
  },
  {
   "cell_type": "code",
   "execution_count": 130,
   "metadata": {},
   "outputs": [],
   "source": [
    "clf_pred = clf2.predict(X_test)"
   ]
  },
  {
   "cell_type": "code",
   "execution_count": 131,
   "metadata": {},
   "outputs": [
    {
     "output_type": "execute_result",
     "data": {
      "text/plain": "0.717065036131184"
     },
     "metadata": {},
     "execution_count": 131
    }
   ],
   "source": [
    "accuracy_score(clf_pred,y_test)"
   ]
  },
  {
   "cell_type": "code",
   "execution_count": null,
   "metadata": {},
   "outputs": [],
   "source": []
  }
 ]
}