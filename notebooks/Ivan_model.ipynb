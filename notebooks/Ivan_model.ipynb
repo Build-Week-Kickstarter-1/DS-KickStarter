{
 "metadata": {
  "language_info": {
   "codemirror_mode": {
    "name": "ipython",
    "version": 3
   },
   "file_extension": ".py",
   "mimetype": "text/x-python",
   "name": "python",
   "nbconvert_exporter": "python",
   "pygments_lexer": "ipython3",
   "version": "3.8.6-candidate"
  },
  "orig_nbformat": 2,
  "kernelspec": {
   "name": "python_defaultSpec_1600969223441",
   "display_name": "Python 3.8.6 64-bit ('DS-KickStarter': pipenv)",
   "metadata": {
    "interpreter": {
     "hash": "92efda5599aab558340c75c979adf80f34547e35b57f9cd4cb9494d010274a98"
    }
   }
  }
 },
 "nbformat": 4,
 "nbformat_minor": 2,
 "cells": [
  {
   "cell_type": "code",
   "execution_count": 826,
   "metadata": {},
   "outputs": [],
   "source": [
    "import pandas as pd \n",
    "import numpy as np\n",
    "from sklearn.model_selection import train_test_split\n",
    "from sklearn.feature_extraction.text import CountVectorizer\n",
    "from sklearn.pipeline import Pipeline\n",
    "from sklearn.metrics import accuracy_score, recall_score, plot_confusion_matrix\n",
    "from sklearn.linear_model import LogisticRegression\n",
    "from sklearn.preprocessing import LabelEncoder\n",
    "from datetime import datetime, timedelta\n",
    "from xgboost import XGBClassifier\n",
    "from sklearn.impute import SimpleImputer\n",
    "from sklearn.preprocessing import StandardScaler\n",
    "from sklearn.pipeline import make_pipeline\n",
    "from sklearn.model_selection import RandomizedSearchCV\n",
    "from sklearn.ensemble import RandomForestClassifier\n",
    "\n",
    "from sklearn.pipeline import Pipeline\n",
    "from sklearn.feature_extraction.text import CountVectorizer\n",
    "from sklearn.linear_model import LogisticRegression\n",
    "import xgboost as xgb"
   ]
  },
  {
   "cell_type": "code",
   "execution_count": 827,
   "metadata": {},
   "outputs": [],
   "source": [
    "df = pd.read_csv('kickstarter_data_with_features.csv')"
   ]
  },
  {
   "cell_type": "code",
   "execution_count": 828,
   "metadata": {
    "tags": []
   },
   "outputs": [],
   "source": [
    "#These are the only columns we can use as input\n",
    "df = df[['name', 'goal', 'blurb', 'launched_at', 'deadline','category','state', 'country']]"
   ]
  },
  {
   "cell_type": "code",
   "execution_count": 829,
   "metadata": {},
   "outputs": [],
   "source": [
    "#filter out all countries not english-speaking\n",
    "english_countries = ['US', 'IE', 'GB', 'AU', 'CA', 'NZ', ]\n",
    "df= df[df['country'].isin(english_countries)]"
   ]
  },
  {
   "cell_type": "code",
   "execution_count": 830,
   "metadata": {},
   "outputs": [],
   "source": [
    "# df = pd.read_csv('ks-projects-201801.csv')"
   ]
  },
  {
   "cell_type": "code",
   "execution_count": 831,
   "metadata": {},
   "outputs": [],
   "source": [
    "#create 'success'filter which only shows failed or success and cuts out other options\n",
    "suc_filt = ['failed', 'successful', 'canceled']\n",
    "df = df[df['state'].isin(suc_filt)]\n",
    "# Convert fail or succuess to 0 or 1\n",
    "df['state'] = df['state'].replace({'failed': 0, 'successful': 1, 'canceled': 0})"
   ]
  },
  {
   "cell_type": "code",
   "execution_count": 832,
   "metadata": {},
   "outputs": [],
   "source": [
    "#Two seperate dataframes are created below, one of only success and one of only fail\n",
    "faileddf = df[df['state'] == 0]\n",
    "sucdf = df[df['state'] == 1]"
   ]
  },
  {
   "cell_type": "code",
   "execution_count": 833,
   "metadata": {},
   "outputs": [
    {
     "output_type": "execute_result",
     "data": {
      "text/plain": "0.4579348354676609"
     },
     "metadata": {},
     "execution_count": 833
    }
   ],
   "source": [
    "#Baseline prediction\n",
    "failed = len(faileddf)\n",
    "suc = len(sucdf)\n",
    "\n",
    "suc / failed"
   ]
  },
  {
   "cell_type": "code",
   "execution_count": 834,
   "metadata": {},
   "outputs": [],
   "source": [
    "columns = ['name','blurb', 'state']\n",
    "\n",
    "to_df = df.copy()\n",
    "\n",
    "to_df = to_df[columns]"
   ]
  },
  {
   "cell_type": "code",
   "execution_count": 835,
   "metadata": {},
   "outputs": [],
   "source": [
    "to_df.fillna(' ', inplace=True)"
   ]
  },
  {
   "cell_type": "code",
   "execution_count": 836,
   "metadata": {},
   "outputs": [],
   "source": [
    "to_df['text']=to_df['name']+' '+to_df['blurb']"
   ]
  },
  {
   "cell_type": "code",
   "execution_count": 837,
   "metadata": {},
   "outputs": [],
   "source": [
    "df_nt = df[['goal', 'launched_at', 'deadline', 'country', 'state']]"
   ]
  },
  {
   "cell_type": "code",
   "execution_count": 838,
   "metadata": {},
   "outputs": [],
   "source": [
    "#convert time columns to campaign length\n",
    "df['deadline'] = df['deadline'].str[:10]\n",
    "df['launched_at'] = df['launched_at'].str[:10]\n",
    "df_nt['deadline'] = pd.to_datetime(df_nt['deadline'], format=\"%Y/%m/%d\")\n",
    "df_nt['launched_at'] = pd.to_datetime(df_nt['launched_at'], format=\"%Y/%m/%d\")\n",
    "\n",
    "df['deadline'] = pd.to_datetime(df['deadline'], format=\"%Y/%m/%d\")\n",
    "df['launched_at'] = pd.to_datetime(df['launched_at'], format=\"%Y/%m/%d\")\n",
    "#create new column\n",
    "df_nt['cam_length'] = df_nt['deadline'] - df_nt['launched_at']\n",
    "df['cam_length'] = df['deadline'] - df['launched_at']"
   ]
  },
  {
   "cell_type": "code",
   "execution_count": 839,
   "metadata": {},
   "outputs": [
    {
     "output_type": "execute_result",
     "data": {
      "text/plain": "                                                    name      goal  \\\n0      Auntie Di's Music Time Sign ASL for Hearing an...    1500.0   \n1                        Jump Start Kindergarten Toolkit     500.0   \n2      Ojukwu Balewa Awolowo (O.B.A.) Public Library ...  100000.0   \n3          MASTIZE - [mas-TAHYZ, MAS-tahyz]  - to spread    5000.0   \n5      Shadow School Board - Reforming Texas School B...   13000.0   \n...                                                  ...       ...   \n20625            Private.Center - Private Social Network   20000.0   \n20626  Pathfinder Adventure Card Game Character Track...    5000.0   \n20629                                     Sloth Face App   10000.0   \n20630                                        DriverTools    2500.0   \n20631                                    Let's Trail app   50000.0   \n\n                                                   blurb launched_at  \\\n0      MTS ASL Curriculum Workbook is a reproducible ...  2014-12-17   \n1      This kit teaches how to print, correct an ugly...  2015-03-02   \n2      Establishing a free, world-class, public libra...  2015-01-25   \n3      Goal: Introducing a new word into the English ...  2014-09-06   \n5      Shadow School Board will provide parents & tax...  2015-10-21   \n...                                                  ...         ...   \n20625  Private.Center - the Private Social Network is...  2015-12-17   \n20626  A companion app for the Pathfinder Adventure C...  2016-05-26   \n20629  We all love fatbooth and Ugly booth, why not s...  2015-02-13   \n20630  Production android app for cab drivers and tru...  2015-04-20   \n20631  We recently launched version 1 of our unique t...  2014-10-21   \n\n        deadline  category  state country cam_length  \n0     2015-01-23  Academic      0      US    37 days  \n1     2015-05-01  Academic      0      US    60 days  \n2     2015-03-26  Academic      0      US    60 days  \n3     2014-10-06  Academic      0      US    30 days  \n5     2015-11-20  Academic      0      US    30 days  \n...          ...       ...    ...     ...        ...  \n20625 2016-02-15      Apps      0      GB    60 days  \n20626 2016-07-01      Apps      0      AU    36 days  \n20629 2015-04-14      Apps      0      US    60 days  \n20630 2015-05-20      Apps      0      US    30 days  \n20631 2014-11-20      Apps      0      IE    30 days  \n\n[17988 rows x 9 columns]",
      "text/html": "<div>\n<style scoped>\n    .dataframe tbody tr th:only-of-type {\n        vertical-align: middle;\n    }\n\n    .dataframe tbody tr th {\n        vertical-align: top;\n    }\n\n    .dataframe thead th {\n        text-align: right;\n    }\n</style>\n<table border=\"1\" class=\"dataframe\">\n  <thead>\n    <tr style=\"text-align: right;\">\n      <th></th>\n      <th>name</th>\n      <th>goal</th>\n      <th>blurb</th>\n      <th>launched_at</th>\n      <th>deadline</th>\n      <th>category</th>\n      <th>state</th>\n      <th>country</th>\n      <th>cam_length</th>\n    </tr>\n  </thead>\n  <tbody>\n    <tr>\n      <th>0</th>\n      <td>Auntie Di's Music Time Sign ASL for Hearing an...</td>\n      <td>1500.0</td>\n      <td>MTS ASL Curriculum Workbook is a reproducible ...</td>\n      <td>2014-12-17</td>\n      <td>2015-01-23</td>\n      <td>Academic</td>\n      <td>0</td>\n      <td>US</td>\n      <td>37 days</td>\n    </tr>\n    <tr>\n      <th>1</th>\n      <td>Jump Start Kindergarten Toolkit</td>\n      <td>500.0</td>\n      <td>This kit teaches how to print, correct an ugly...</td>\n      <td>2015-03-02</td>\n      <td>2015-05-01</td>\n      <td>Academic</td>\n      <td>0</td>\n      <td>US</td>\n      <td>60 days</td>\n    </tr>\n    <tr>\n      <th>2</th>\n      <td>Ojukwu Balewa Awolowo (O.B.A.) Public Library ...</td>\n      <td>100000.0</td>\n      <td>Establishing a free, world-class, public libra...</td>\n      <td>2015-01-25</td>\n      <td>2015-03-26</td>\n      <td>Academic</td>\n      <td>0</td>\n      <td>US</td>\n      <td>60 days</td>\n    </tr>\n    <tr>\n      <th>3</th>\n      <td>MASTIZE - [mas-TAHYZ, MAS-tahyz]  - to spread</td>\n      <td>5000.0</td>\n      <td>Goal: Introducing a new word into the English ...</td>\n      <td>2014-09-06</td>\n      <td>2014-10-06</td>\n      <td>Academic</td>\n      <td>0</td>\n      <td>US</td>\n      <td>30 days</td>\n    </tr>\n    <tr>\n      <th>5</th>\n      <td>Shadow School Board - Reforming Texas School B...</td>\n      <td>13000.0</td>\n      <td>Shadow School Board will provide parents &amp; tax...</td>\n      <td>2015-10-21</td>\n      <td>2015-11-20</td>\n      <td>Academic</td>\n      <td>0</td>\n      <td>US</td>\n      <td>30 days</td>\n    </tr>\n    <tr>\n      <th>...</th>\n      <td>...</td>\n      <td>...</td>\n      <td>...</td>\n      <td>...</td>\n      <td>...</td>\n      <td>...</td>\n      <td>...</td>\n      <td>...</td>\n      <td>...</td>\n    </tr>\n    <tr>\n      <th>20625</th>\n      <td>Private.Center - Private Social Network</td>\n      <td>20000.0</td>\n      <td>Private.Center - the Private Social Network is...</td>\n      <td>2015-12-17</td>\n      <td>2016-02-15</td>\n      <td>Apps</td>\n      <td>0</td>\n      <td>GB</td>\n      <td>60 days</td>\n    </tr>\n    <tr>\n      <th>20626</th>\n      <td>Pathfinder Adventure Card Game Character Track...</td>\n      <td>5000.0</td>\n      <td>A companion app for the Pathfinder Adventure C...</td>\n      <td>2016-05-26</td>\n      <td>2016-07-01</td>\n      <td>Apps</td>\n      <td>0</td>\n      <td>AU</td>\n      <td>36 days</td>\n    </tr>\n    <tr>\n      <th>20629</th>\n      <td>Sloth Face App</td>\n      <td>10000.0</td>\n      <td>We all love fatbooth and Ugly booth, why not s...</td>\n      <td>2015-02-13</td>\n      <td>2015-04-14</td>\n      <td>Apps</td>\n      <td>0</td>\n      <td>US</td>\n      <td>60 days</td>\n    </tr>\n    <tr>\n      <th>20630</th>\n      <td>DriverTools</td>\n      <td>2500.0</td>\n      <td>Production android app for cab drivers and tru...</td>\n      <td>2015-04-20</td>\n      <td>2015-05-20</td>\n      <td>Apps</td>\n      <td>0</td>\n      <td>US</td>\n      <td>30 days</td>\n    </tr>\n    <tr>\n      <th>20631</th>\n      <td>Let's Trail app</td>\n      <td>50000.0</td>\n      <td>We recently launched version 1 of our unique t...</td>\n      <td>2014-10-21</td>\n      <td>2014-11-20</td>\n      <td>Apps</td>\n      <td>0</td>\n      <td>IE</td>\n      <td>30 days</td>\n    </tr>\n  </tbody>\n</table>\n<p>17988 rows × 9 columns</p>\n</div>"
     },
     "metadata": {},
     "execution_count": 839
    }
   ],
   "source": [
    "df"
   ]
  },
  {
   "cell_type": "code",
   "execution_count": 840,
   "metadata": {},
   "outputs": [],
   "source": [
    "lb_make = LabelEncoder()\n",
    "df[\"cam_length\"] = lb_make.fit_transform(df[\"cam_length\"]) + 1"
   ]
  },
  {
   "cell_type": "code",
   "execution_count": 841,
   "metadata": {},
   "outputs": [],
   "source": [
    "df_nt = df_nt[['goal', 'cam_length', 'state']]"
   ]
  },
  {
   "cell_type": "code",
   "execution_count": 842,
   "metadata": {},
   "outputs": [
    {
     "output_type": "execute_result",
     "data": {
      "text/plain": "                                                    name      goal  \\\n0      Auntie Di's Music Time Sign ASL for Hearing an...    1500.0   \n1                        Jump Start Kindergarten Toolkit     500.0   \n2      Ojukwu Balewa Awolowo (O.B.A.) Public Library ...  100000.0   \n3          MASTIZE - [mas-TAHYZ, MAS-tahyz]  - to spread    5000.0   \n5      Shadow School Board - Reforming Texas School B...   13000.0   \n...                                                  ...       ...   \n20625            Private.Center - Private Social Network   20000.0   \n20626  Pathfinder Adventure Card Game Character Track...    5000.0   \n20629                                     Sloth Face App   10000.0   \n20630                                        DriverTools    2500.0   \n20631                                    Let's Trail app   50000.0   \n\n                                                   blurb launched_at  \\\n0      MTS ASL Curriculum Workbook is a reproducible ...  2014-12-17   \n1      This kit teaches how to print, correct an ugly...  2015-03-02   \n2      Establishing a free, world-class, public libra...  2015-01-25   \n3      Goal: Introducing a new word into the English ...  2014-09-06   \n5      Shadow School Board will provide parents & tax...  2015-10-21   \n...                                                  ...         ...   \n20625  Private.Center - the Private Social Network is...  2015-12-17   \n20626  A companion app for the Pathfinder Adventure C...  2016-05-26   \n20629  We all love fatbooth and Ugly booth, why not s...  2015-02-13   \n20630  Production android app for cab drivers and tru...  2015-04-20   \n20631  We recently launched version 1 of our unique t...  2014-10-21   \n\n        deadline  category  state country  cam_length  \n0     2015-01-23  Academic      0      US          37  \n1     2015-05-01  Academic      0      US          60  \n2     2015-03-26  Academic      0      US          60  \n3     2014-10-06  Academic      0      US          30  \n5     2015-11-20  Academic      0      US          30  \n...          ...       ...    ...     ...         ...  \n20625 2016-02-15      Apps      0      GB          60  \n20626 2016-07-01      Apps      0      AU          36  \n20629 2015-04-14      Apps      0      US          60  \n20630 2015-05-20      Apps      0      US          30  \n20631 2014-11-20      Apps      0      IE          30  \n\n[17988 rows x 9 columns]",
      "text/html": "<div>\n<style scoped>\n    .dataframe tbody tr th:only-of-type {\n        vertical-align: middle;\n    }\n\n    .dataframe tbody tr th {\n        vertical-align: top;\n    }\n\n    .dataframe thead th {\n        text-align: right;\n    }\n</style>\n<table border=\"1\" class=\"dataframe\">\n  <thead>\n    <tr style=\"text-align: right;\">\n      <th></th>\n      <th>name</th>\n      <th>goal</th>\n      <th>blurb</th>\n      <th>launched_at</th>\n      <th>deadline</th>\n      <th>category</th>\n      <th>state</th>\n      <th>country</th>\n      <th>cam_length</th>\n    </tr>\n  </thead>\n  <tbody>\n    <tr>\n      <th>0</th>\n      <td>Auntie Di's Music Time Sign ASL for Hearing an...</td>\n      <td>1500.0</td>\n      <td>MTS ASL Curriculum Workbook is a reproducible ...</td>\n      <td>2014-12-17</td>\n      <td>2015-01-23</td>\n      <td>Academic</td>\n      <td>0</td>\n      <td>US</td>\n      <td>37</td>\n    </tr>\n    <tr>\n      <th>1</th>\n      <td>Jump Start Kindergarten Toolkit</td>\n      <td>500.0</td>\n      <td>This kit teaches how to print, correct an ugly...</td>\n      <td>2015-03-02</td>\n      <td>2015-05-01</td>\n      <td>Academic</td>\n      <td>0</td>\n      <td>US</td>\n      <td>60</td>\n    </tr>\n    <tr>\n      <th>2</th>\n      <td>Ojukwu Balewa Awolowo (O.B.A.) Public Library ...</td>\n      <td>100000.0</td>\n      <td>Establishing a free, world-class, public libra...</td>\n      <td>2015-01-25</td>\n      <td>2015-03-26</td>\n      <td>Academic</td>\n      <td>0</td>\n      <td>US</td>\n      <td>60</td>\n    </tr>\n    <tr>\n      <th>3</th>\n      <td>MASTIZE - [mas-TAHYZ, MAS-tahyz]  - to spread</td>\n      <td>5000.0</td>\n      <td>Goal: Introducing a new word into the English ...</td>\n      <td>2014-09-06</td>\n      <td>2014-10-06</td>\n      <td>Academic</td>\n      <td>0</td>\n      <td>US</td>\n      <td>30</td>\n    </tr>\n    <tr>\n      <th>5</th>\n      <td>Shadow School Board - Reforming Texas School B...</td>\n      <td>13000.0</td>\n      <td>Shadow School Board will provide parents &amp; tax...</td>\n      <td>2015-10-21</td>\n      <td>2015-11-20</td>\n      <td>Academic</td>\n      <td>0</td>\n      <td>US</td>\n      <td>30</td>\n    </tr>\n    <tr>\n      <th>...</th>\n      <td>...</td>\n      <td>...</td>\n      <td>...</td>\n      <td>...</td>\n      <td>...</td>\n      <td>...</td>\n      <td>...</td>\n      <td>...</td>\n      <td>...</td>\n    </tr>\n    <tr>\n      <th>20625</th>\n      <td>Private.Center - Private Social Network</td>\n      <td>20000.0</td>\n      <td>Private.Center - the Private Social Network is...</td>\n      <td>2015-12-17</td>\n      <td>2016-02-15</td>\n      <td>Apps</td>\n      <td>0</td>\n      <td>GB</td>\n      <td>60</td>\n    </tr>\n    <tr>\n      <th>20626</th>\n      <td>Pathfinder Adventure Card Game Character Track...</td>\n      <td>5000.0</td>\n      <td>A companion app for the Pathfinder Adventure C...</td>\n      <td>2016-05-26</td>\n      <td>2016-07-01</td>\n      <td>Apps</td>\n      <td>0</td>\n      <td>AU</td>\n      <td>36</td>\n    </tr>\n    <tr>\n      <th>20629</th>\n      <td>Sloth Face App</td>\n      <td>10000.0</td>\n      <td>We all love fatbooth and Ugly booth, why not s...</td>\n      <td>2015-02-13</td>\n      <td>2015-04-14</td>\n      <td>Apps</td>\n      <td>0</td>\n      <td>US</td>\n      <td>60</td>\n    </tr>\n    <tr>\n      <th>20630</th>\n      <td>DriverTools</td>\n      <td>2500.0</td>\n      <td>Production android app for cab drivers and tru...</td>\n      <td>2015-04-20</td>\n      <td>2015-05-20</td>\n      <td>Apps</td>\n      <td>0</td>\n      <td>US</td>\n      <td>30</td>\n    </tr>\n    <tr>\n      <th>20631</th>\n      <td>Let's Trail app</td>\n      <td>50000.0</td>\n      <td>We recently launched version 1 of our unique t...</td>\n      <td>2014-10-21</td>\n      <td>2014-11-20</td>\n      <td>Apps</td>\n      <td>0</td>\n      <td>IE</td>\n      <td>30</td>\n    </tr>\n  </tbody>\n</table>\n<p>17988 rows × 9 columns</p>\n</div>"
     },
     "metadata": {},
     "execution_count": 842
    }
   ],
   "source": [
    "df"
   ]
  },
  {
   "cell_type": "code",
   "execution_count": 843,
   "metadata": {},
   "outputs": [],
   "source": [
    "df = df[['name', 'goal', 'blurb', 'state', 'cam_length']]\n",
    "NUMERIC_COLUMNS = ['goal', \"cam_length\"]\n",
    "LABELS = ['state']\n",
    "numeric_data_only = df[NUMERIC_COLUMNS]\n",
    "NON_LABELS = [c for c in df.columns if c not in LABELS]\n",
    "TEXT_COLUMNS = [c for c in NON_LABELS if c not in NUMERIC_COLUMNS]"
   ]
  },
  {
   "cell_type": "code",
   "execution_count": 844,
   "metadata": {},
   "outputs": [
    {
     "output_type": "execute_result",
     "data": {
      "text/plain": "['name', 'blurb']"
     },
     "metadata": {},
     "execution_count": 844
    }
   ],
   "source": [
    "TEXT_COLUMNS"
   ]
  },
  {
   "cell_type": "code",
   "execution_count": 845,
   "metadata": {},
   "outputs": [],
   "source": [
    "def declare(df):\n",
    "    NUMERIC_COLUMNS = ['goal', \"cam_length\"]\n",
    "    LABELS = ['state']\n",
    "    numeric_data_only = df[NUMERIC_COLUMNS]\n",
    "    NON_LABELS = [c for c in df.columns if c not in LABELS]\n",
    "    TEXT_COLUMNS = [c for c in NON_LABELS if c not in NUMERIC_COLUMNS]\n",
    "\n",
    "    return df"
   ]
  },
  {
   "cell_type": "code",
   "execution_count": 846,
   "metadata": {},
   "outputs": [
    {
     "output_type": "execute_result",
     "data": {
      "text/plain": "                                                    name      goal  \\\n0      Auntie Di's Music Time Sign ASL for Hearing an...    1500.0   \n1                        Jump Start Kindergarten Toolkit     500.0   \n2      Ojukwu Balewa Awolowo (O.B.A.) Public Library ...  100000.0   \n3          MASTIZE - [mas-TAHYZ, MAS-tahyz]  - to spread    5000.0   \n5      Shadow School Board - Reforming Texas School B...   13000.0   \n...                                                  ...       ...   \n20625            Private.Center - Private Social Network   20000.0   \n20626  Pathfinder Adventure Card Game Character Track...    5000.0   \n20629                                     Sloth Face App   10000.0   \n20630                                        DriverTools    2500.0   \n20631                                    Let's Trail app   50000.0   \n\n                                                   blurb  state  cam_length  \n0      MTS ASL Curriculum Workbook is a reproducible ...      0          37  \n1      This kit teaches how to print, correct an ugly...      0          60  \n2      Establishing a free, world-class, public libra...      0          60  \n3      Goal: Introducing a new word into the English ...      0          30  \n5      Shadow School Board will provide parents & tax...      0          30  \n...                                                  ...    ...         ...  \n20625  Private.Center - the Private Social Network is...      0          60  \n20626  A companion app for the Pathfinder Adventure C...      0          36  \n20629  We all love fatbooth and Ugly booth, why not s...      0          60  \n20630  Production android app for cab drivers and tru...      0          30  \n20631  We recently launched version 1 of our unique t...      0          30  \n\n[17988 rows x 5 columns]",
      "text/html": "<div>\n<style scoped>\n    .dataframe tbody tr th:only-of-type {\n        vertical-align: middle;\n    }\n\n    .dataframe tbody tr th {\n        vertical-align: top;\n    }\n\n    .dataframe thead th {\n        text-align: right;\n    }\n</style>\n<table border=\"1\" class=\"dataframe\">\n  <thead>\n    <tr style=\"text-align: right;\">\n      <th></th>\n      <th>name</th>\n      <th>goal</th>\n      <th>blurb</th>\n      <th>state</th>\n      <th>cam_length</th>\n    </tr>\n  </thead>\n  <tbody>\n    <tr>\n      <th>0</th>\n      <td>Auntie Di's Music Time Sign ASL for Hearing an...</td>\n      <td>1500.0</td>\n      <td>MTS ASL Curriculum Workbook is a reproducible ...</td>\n      <td>0</td>\n      <td>37</td>\n    </tr>\n    <tr>\n      <th>1</th>\n      <td>Jump Start Kindergarten Toolkit</td>\n      <td>500.0</td>\n      <td>This kit teaches how to print, correct an ugly...</td>\n      <td>0</td>\n      <td>60</td>\n    </tr>\n    <tr>\n      <th>2</th>\n      <td>Ojukwu Balewa Awolowo (O.B.A.) Public Library ...</td>\n      <td>100000.0</td>\n      <td>Establishing a free, world-class, public libra...</td>\n      <td>0</td>\n      <td>60</td>\n    </tr>\n    <tr>\n      <th>3</th>\n      <td>MASTIZE - [mas-TAHYZ, MAS-tahyz]  - to spread</td>\n      <td>5000.0</td>\n      <td>Goal: Introducing a new word into the English ...</td>\n      <td>0</td>\n      <td>30</td>\n    </tr>\n    <tr>\n      <th>5</th>\n      <td>Shadow School Board - Reforming Texas School B...</td>\n      <td>13000.0</td>\n      <td>Shadow School Board will provide parents &amp; tax...</td>\n      <td>0</td>\n      <td>30</td>\n    </tr>\n    <tr>\n      <th>...</th>\n      <td>...</td>\n      <td>...</td>\n      <td>...</td>\n      <td>...</td>\n      <td>...</td>\n    </tr>\n    <tr>\n      <th>20625</th>\n      <td>Private.Center - Private Social Network</td>\n      <td>20000.0</td>\n      <td>Private.Center - the Private Social Network is...</td>\n      <td>0</td>\n      <td>60</td>\n    </tr>\n    <tr>\n      <th>20626</th>\n      <td>Pathfinder Adventure Card Game Character Track...</td>\n      <td>5000.0</td>\n      <td>A companion app for the Pathfinder Adventure C...</td>\n      <td>0</td>\n      <td>36</td>\n    </tr>\n    <tr>\n      <th>20629</th>\n      <td>Sloth Face App</td>\n      <td>10000.0</td>\n      <td>We all love fatbooth and Ugly booth, why not s...</td>\n      <td>0</td>\n      <td>60</td>\n    </tr>\n    <tr>\n      <th>20630</th>\n      <td>DriverTools</td>\n      <td>2500.0</td>\n      <td>Production android app for cab drivers and tru...</td>\n      <td>0</td>\n      <td>30</td>\n    </tr>\n    <tr>\n      <th>20631</th>\n      <td>Let's Trail app</td>\n      <td>50000.0</td>\n      <td>We recently launched version 1 of our unique t...</td>\n      <td>0</td>\n      <td>30</td>\n    </tr>\n  </tbody>\n</table>\n<p>17988 rows × 5 columns</p>\n</div>"
     },
     "metadata": {},
     "execution_count": 846
    }
   ],
   "source": [
    "declare(df)"
   ]
  },
  {
   "cell_type": "code",
   "execution_count": 847,
   "metadata": {},
   "outputs": [],
   "source": [
    "def combine_text_columns(data_frame, to_drop=['state', 'goal', 'cam_length']):\n",
    "    \"\"\" Takes the dataset as read in, drops the non-feature, non-text columns and\n",
    "        then combines all of the text columns into a single vector that has all of\n",
    "        the text for a row.\n",
    "\n",
    "        :param data_frame: The data as read in with read_csv (no preprocessing necessary)\n",
    "        :param to_drop (optional): Removes the numeric and label columns by default.\n",
    "    \"\"\"\n",
    "    # drop non-text columns that are in the df\n",
    "    # to_drop = set(to_drop) & set(data_frame.columns.tolist())\n",
    "    text_data = set(data_frame.drop(to_drop, axis=1)) & set(data_frame.columns.tolist())\n",
    "    text_data = data_frame['name'] + \" \" + data_frame['blurb']\n",
    "\n",
    "    # joins all of the text items in a row (axis=1)\n",
    "    # with a space in between\n",
    "    return text_data"
   ]
  },
  {
   "cell_type": "code",
   "execution_count": 848,
   "metadata": {},
   "outputs": [
    {
     "output_type": "execute_result",
     "data": {
      "text/plain": "0        Auntie Di's Music Time Sign ASL for Hearing an...\n1        Jump Start Kindergarten Toolkit This kit teach...\n2        Ojukwu Balewa Awolowo (O.B.A.) Public Library ...\n3        MASTIZE - [mas-TAHYZ, MAS-tahyz]  - to spread ...\n5        Shadow School Board - Reforming Texas School B...\n                               ...                        \n20625    Private.Center - Private Social Network Privat...\n20626    Pathfinder Adventure Card Game Character Track...\n20629    Sloth Face App We all love fatbooth and Ugly b...\n20630    DriverTools Production android app for cab dri...\n20631    Let's Trail app We recently launched version 1...\nLength: 17988, dtype: object"
     },
     "metadata": {},
     "execution_count": 848
    }
   ],
   "source": [
    "combine_text_columns(df)"
   ]
  },
  {
   "cell_type": "code",
   "execution_count": 849,
   "metadata": {},
   "outputs": [],
   "source": [
    "def get_numeric(df):\n",
    "    data_frame = df[['goal', 'cam_length']]\n",
    "    return data_frame"
   ]
  },
  {
   "cell_type": "code",
   "execution_count": null,
   "metadata": {},
   "outputs": [],
   "source": []
  },
  {
   "cell_type": "code",
   "execution_count": null,
   "metadata": {},
   "outputs": [],
   "source": []
  },
  {
   "cell_type": "code",
   "execution_count": 852,
   "metadata": {},
   "outputs": [],
   "source": [
    "df['text'] = combine_text_columns(df)"
   ]
  },
  {
   "cell_type": "code",
   "execution_count": 853,
   "metadata": {},
   "outputs": [],
   "source": [
    "df = df[['goal', 'state', 'cam_length', 'text']]"
   ]
  },
  {
   "cell_type": "code",
   "execution_count": 854,
   "metadata": {},
   "outputs": [
    {
     "output_type": "execute_result",
     "data": {
      "text/plain": "           goal  state  cam_length  \\\n0        1500.0      0          37   \n1         500.0      0          60   \n2      100000.0      0          60   \n3        5000.0      0          30   \n5       13000.0      0          30   \n...         ...    ...         ...   \n20625   20000.0      0          60   \n20626    5000.0      0          36   \n20629   10000.0      0          60   \n20630    2500.0      0          30   \n20631   50000.0      0          30   \n\n                                                    text  \n0      Auntie Di's Music Time Sign ASL for Hearing an...  \n1      Jump Start Kindergarten Toolkit This kit teach...  \n2      Ojukwu Balewa Awolowo (O.B.A.) Public Library ...  \n3      MASTIZE - [mas-TAHYZ, MAS-tahyz]  - to spread ...  \n5      Shadow School Board - Reforming Texas School B...  \n...                                                  ...  \n20625  Private.Center - Private Social Network Privat...  \n20626  Pathfinder Adventure Card Game Character Track...  \n20629  Sloth Face App We all love fatbooth and Ugly b...  \n20630  DriverTools Production android app for cab dri...  \n20631  Let's Trail app We recently launched version 1...  \n\n[17988 rows x 4 columns]",
      "text/html": "<div>\n<style scoped>\n    .dataframe tbody tr th:only-of-type {\n        vertical-align: middle;\n    }\n\n    .dataframe tbody tr th {\n        vertical-align: top;\n    }\n\n    .dataframe thead th {\n        text-align: right;\n    }\n</style>\n<table border=\"1\" class=\"dataframe\">\n  <thead>\n    <tr style=\"text-align: right;\">\n      <th></th>\n      <th>goal</th>\n      <th>state</th>\n      <th>cam_length</th>\n      <th>text</th>\n    </tr>\n  </thead>\n  <tbody>\n    <tr>\n      <th>0</th>\n      <td>1500.0</td>\n      <td>0</td>\n      <td>37</td>\n      <td>Auntie Di's Music Time Sign ASL for Hearing an...</td>\n    </tr>\n    <tr>\n      <th>1</th>\n      <td>500.0</td>\n      <td>0</td>\n      <td>60</td>\n      <td>Jump Start Kindergarten Toolkit This kit teach...</td>\n    </tr>\n    <tr>\n      <th>2</th>\n      <td>100000.0</td>\n      <td>0</td>\n      <td>60</td>\n      <td>Ojukwu Balewa Awolowo (O.B.A.) Public Library ...</td>\n    </tr>\n    <tr>\n      <th>3</th>\n      <td>5000.0</td>\n      <td>0</td>\n      <td>30</td>\n      <td>MASTIZE - [mas-TAHYZ, MAS-tahyz]  - to spread ...</td>\n    </tr>\n    <tr>\n      <th>5</th>\n      <td>13000.0</td>\n      <td>0</td>\n      <td>30</td>\n      <td>Shadow School Board - Reforming Texas School B...</td>\n    </tr>\n    <tr>\n      <th>...</th>\n      <td>...</td>\n      <td>...</td>\n      <td>...</td>\n      <td>...</td>\n    </tr>\n    <tr>\n      <th>20625</th>\n      <td>20000.0</td>\n      <td>0</td>\n      <td>60</td>\n      <td>Private.Center - Private Social Network Privat...</td>\n    </tr>\n    <tr>\n      <th>20626</th>\n      <td>5000.0</td>\n      <td>0</td>\n      <td>36</td>\n      <td>Pathfinder Adventure Card Game Character Track...</td>\n    </tr>\n    <tr>\n      <th>20629</th>\n      <td>10000.0</td>\n      <td>0</td>\n      <td>60</td>\n      <td>Sloth Face App We all love fatbooth and Ugly b...</td>\n    </tr>\n    <tr>\n      <th>20630</th>\n      <td>2500.0</td>\n      <td>0</td>\n      <td>30</td>\n      <td>DriverTools Production android app for cab dri...</td>\n    </tr>\n    <tr>\n      <th>20631</th>\n      <td>50000.0</td>\n      <td>0</td>\n      <td>30</td>\n      <td>Let's Trail app We recently launched version 1...</td>\n    </tr>\n  </tbody>\n</table>\n<p>17988 rows × 4 columns</p>\n</div>"
     },
     "metadata": {},
     "execution_count": 854
    }
   ],
   "source": [
    "df"
   ]
  },
  {
   "cell_type": "code",
   "execution_count": 855,
   "metadata": {},
   "outputs": [],
   "source": [
    "# df['text'] = df['text'].tolist()"
   ]
  },
  {
   "cell_type": "code",
   "execution_count": 856,
   "metadata": {},
   "outputs": [
    {
     "output_type": "execute_result",
     "data": {
      "text/plain": "0        Auntie Di's Music Time Sign ASL for Hearing an...\n1        Jump Start Kindergarten Toolkit This kit teach...\n2        Ojukwu Balewa Awolowo (O.B.A.) Public Library ...\n3        MASTIZE - [mas-TAHYZ, MAS-tahyz]  - to spread ...\n5        Shadow School Board - Reforming Texas School B...\n                               ...                        \n20625    Private.Center - Private Social Network Privat...\n20626    Pathfinder Adventure Card Game Character Track...\n20629    Sloth Face App We all love fatbooth and Ugly b...\n20630    DriverTools Production android app for cab dri...\n20631    Let's Trail app We recently launched version 1...\nName: text, Length: 17988, dtype: object"
     },
     "metadata": {},
     "execution_count": 856
    }
   ],
   "source": [
    "df['text']"
   ]
  },
  {
   "cell_type": "code",
   "execution_count": 857,
   "metadata": {},
   "outputs": [],
   "source": [
    "from sklearn.feature_extraction.text import CountVectorizer\n",
    "import re"
   ]
  },
  {
   "cell_type": "code",
   "execution_count": 858,
   "metadata": {},
   "outputs": [
    {
     "output_type": "execute_result",
     "data": {
      "text/plain": "goal          0\nstate         0\ncam_length    0\ntext          5\ndtype: int64"
     },
     "metadata": {},
     "execution_count": 858
    }
   ],
   "source": [
    "df.isnull().sum()"
   ]
  },
  {
   "cell_type": "code",
   "execution_count": 859,
   "metadata": {},
   "outputs": [],
   "source": [
    "df.dropna(inplace = True)\n",
    "df.reset_index(drop=True, inplace=True)"
   ]
  },
  {
   "cell_type": "code",
   "execution_count": null,
   "metadata": {},
   "outputs": [],
   "source": []
  },
  {
   "cell_type": "code",
   "execution_count": 860,
   "metadata": {},
   "outputs": [],
   "source": [
    "# new_doc = [df['text'][0]]"
   ]
  },
  {
   "cell_type": "code",
   "execution_count": 861,
   "metadata": {},
   "outputs": [],
   "source": [
    "# new_doc"
   ]
  },
  {
   "cell_type": "code",
   "execution_count": null,
   "metadata": {},
   "outputs": [],
   "source": []
  },
  {
   "cell_type": "code",
   "execution_count": 862,
   "metadata": {},
   "outputs": [],
   "source": [
    "# X = vectorizer.fit_transform(new_doc)"
   ]
  },
  {
   "cell_type": "code",
   "execution_count": 863,
   "metadata": {
    "tags": []
   },
   "outputs": [],
   "source": [
    "# x = X.toarray()"
   ]
  },
  {
   "cell_type": "code",
   "execution_count": 864,
   "metadata": {},
   "outputs": [],
   "source": [
    "# x = x.ravel()"
   ]
  },
  {
   "cell_type": "code",
   "execution_count": 865,
   "metadata": {},
   "outputs": [],
   "source": [
    "# x.shape"
   ]
  },
  {
   "cell_type": "code",
   "execution_count": 866,
   "metadata": {},
   "outputs": [
    {
     "output_type": "execute_result",
     "data": {
      "text/plain": "'O ---'"
     },
     "metadata": {},
     "execution_count": 866
    }
   ],
   "source": [
    "df['text'][17674]"
   ]
  },
  {
   "cell_type": "code",
   "execution_count": 867,
   "metadata": {},
   "outputs": [],
   "source": [
    "def tokenize(text):    \n",
    "    tokens = re.sub('[^a-zA-Z 0-9]', '', text)\n",
    "    tokens = tokens.lower().split()\n",
    "    \n",
    "    return tokens"
   ]
  },
  {
   "cell_type": "code",
   "execution_count": 868,
   "metadata": {},
   "outputs": [],
   "source": [
    "vectorizer = CountVectorizer(stop_words='english', tokenizer=tokenize,ngram_range=(1,3))"
   ]
  },
  {
   "cell_type": "code",
   "execution_count": null,
   "metadata": {},
   "outputs": [],
   "source": []
  },
  {
   "cell_type": "code",
   "execution_count": null,
   "metadata": {},
   "outputs": [],
   "source": []
  },
  {
   "cell_type": "code",
   "execution_count": 869,
   "metadata": {},
   "outputs": [],
   "source": [
    "num = 0\n",
    "for i in df['text']:\n",
    "    new_doc = []\n",
    "    new_doc = [df['text'][num]]\n",
    "    X = vectorizer.fit_transform(new_doc)\n",
    "    x = X.toarray()\n",
    "    x = x.ravel()\n",
    "    df['text'][num] = x\n",
    "    num += 1"
   ]
  },
  {
   "cell_type": "code",
   "execution_count": 870,
   "metadata": {},
   "outputs": [
    {
     "output_type": "execute_result",
     "data": {
      "text/plain": "(17983,)"
     },
     "metadata": {},
     "execution_count": 870
    }
   ],
   "source": [
    "df['text'].shape"
   ]
  },
  {
   "cell_type": "code",
   "execution_count": 871,
   "metadata": {},
   "outputs": [],
   "source": [
    "# num = 0\n",
    "# for i in df['text']:\n",
    "#     df['text'][num] = df['text'][num].tolist()\n",
    "#     num += 1"
   ]
  },
  {
   "cell_type": "code",
   "execution_count": 872,
   "metadata": {},
   "outputs": [],
   "source": [
    "num = 0\n",
    "for i in df['text']:\n",
    "    # df['text'][num] = df['text'][num].tolist()\n",
    "    df['text'][num] = df['text'][num].sum()\n",
    "    num += 1"
   ]
  },
  {
   "cell_type": "code",
   "execution_count": 873,
   "metadata": {},
   "outputs": [
    {
     "output_type": "execute_result",
     "data": {
      "text/plain": "           goal  state  cam_length text\n0        1500.0      0          37   72\n1         500.0      0          60   51\n2      100000.0      0          60   48\n3        5000.0      0          30   42\n4       13000.0      0          30   60\n...         ...    ...         ...  ...\n17978   20000.0      0          60   45\n17979    5000.0      0          36   60\n17980   10000.0      0          60   48\n17981    2500.0      0          30   18\n17982   50000.0      0          30   45\n\n[17983 rows x 4 columns]",
      "text/html": "<div>\n<style scoped>\n    .dataframe tbody tr th:only-of-type {\n        vertical-align: middle;\n    }\n\n    .dataframe tbody tr th {\n        vertical-align: top;\n    }\n\n    .dataframe thead th {\n        text-align: right;\n    }\n</style>\n<table border=\"1\" class=\"dataframe\">\n  <thead>\n    <tr style=\"text-align: right;\">\n      <th></th>\n      <th>goal</th>\n      <th>state</th>\n      <th>cam_length</th>\n      <th>text</th>\n    </tr>\n  </thead>\n  <tbody>\n    <tr>\n      <th>0</th>\n      <td>1500.0</td>\n      <td>0</td>\n      <td>37</td>\n      <td>72</td>\n    </tr>\n    <tr>\n      <th>1</th>\n      <td>500.0</td>\n      <td>0</td>\n      <td>60</td>\n      <td>51</td>\n    </tr>\n    <tr>\n      <th>2</th>\n      <td>100000.0</td>\n      <td>0</td>\n      <td>60</td>\n      <td>48</td>\n    </tr>\n    <tr>\n      <th>3</th>\n      <td>5000.0</td>\n      <td>0</td>\n      <td>30</td>\n      <td>42</td>\n    </tr>\n    <tr>\n      <th>4</th>\n      <td>13000.0</td>\n      <td>0</td>\n      <td>30</td>\n      <td>60</td>\n    </tr>\n    <tr>\n      <th>...</th>\n      <td>...</td>\n      <td>...</td>\n      <td>...</td>\n      <td>...</td>\n    </tr>\n    <tr>\n      <th>17978</th>\n      <td>20000.0</td>\n      <td>0</td>\n      <td>60</td>\n      <td>45</td>\n    </tr>\n    <tr>\n      <th>17979</th>\n      <td>5000.0</td>\n      <td>0</td>\n      <td>36</td>\n      <td>60</td>\n    </tr>\n    <tr>\n      <th>17980</th>\n      <td>10000.0</td>\n      <td>0</td>\n      <td>60</td>\n      <td>48</td>\n    </tr>\n    <tr>\n      <th>17981</th>\n      <td>2500.0</td>\n      <td>0</td>\n      <td>30</td>\n      <td>18</td>\n    </tr>\n    <tr>\n      <th>17982</th>\n      <td>50000.0</td>\n      <td>0</td>\n      <td>30</td>\n      <td>45</td>\n    </tr>\n  </tbody>\n</table>\n<p>17983 rows × 4 columns</p>\n</div>"
     },
     "metadata": {},
     "execution_count": 873
    }
   ],
   "source": [
    "df"
   ]
  },
  {
   "cell_type": "code",
   "execution_count": 874,
   "metadata": {},
   "outputs": [],
   "source": [
    "# split into train test\n",
    "X_train, X_test, y_train, y_test = train_test_split(df[['goal', 'cam_length']], df['state'],train_size=0.80, test_size=0.20, stratify= df['state'], random_state=42)"
   ]
  },
  {
   "cell_type": "code",
   "execution_count": 875,
   "metadata": {},
   "outputs": [],
   "source": [
    "pipe = make_pipeline(\n",
    "    SimpleImputer(strategy='mean'),\n",
    "    StandardScaler(),\n",
    "    XGBClassifier()\n",
    ")"
   ]
  },
  {
   "cell_type": "code",
   "execution_count": 876,
   "metadata": {},
   "outputs": [
    {
     "output_type": "execute_result",
     "data": {
      "text/plain": "Pipeline(steps=[('simpleimputer', SimpleImputer()),\n                ('standardscaler', StandardScaler()),\n                ('xgbclassifier',\n                 XGBClassifier(base_score=0.5, booster='gbtree',\n                               colsample_bylevel=1, colsample_bynode=1,\n                               colsample_bytree=1, gamma=0, gpu_id=-1,\n                               importance_type='gain',\n                               interaction_constraints='',\n                               learning_rate=0.300000012, max_delta_step=0,\n                               max_depth=6, min_child_weight=1, missing=nan,\n                               monotone_constraints='()', n_estimators=100,\n                               n_jobs=0, num_parallel_tree=1, random_state=0,\n                               reg_alpha=0, reg_lambda=1, scale_pos_weight=1,\n                               subsample=1, tree_method='exact',\n                               validate_parameters=1, verbosity=None))])"
     },
     "metadata": {},
     "execution_count": 876
    }
   ],
   "source": [
    "pipe.fit(X_train, y_train)"
   ]
  },
  {
   "cell_type": "code",
   "execution_count": 877,
   "metadata": {},
   "outputs": [],
   "source": [
    "pipe_pred = pipe.predict(X_test)"
   ]
  },
  {
   "cell_type": "code",
   "execution_count": 878,
   "metadata": {},
   "outputs": [
    {
     "output_type": "execute_result",
     "data": {
      "text/plain": "0.705031971087017"
     },
     "metadata": {},
     "execution_count": 878
    }
   ],
   "source": [
    "accuracy_score(pipe_pred,y_test)"
   ]
  },
  {
   "cell_type": "code",
   "execution_count": 25,
   "metadata": {
    "tags": []
   },
   "outputs": [
    {
     "output_type": "stream",
     "name": "stdout",
     "text": "Fitting 7 folds for each of 160 candidates, totalling 1120 fits\n[Parallel(n_jobs=-1)]: Using backend LokyBackend with 12 concurrent workers.\n[Parallel(n_jobs=-1)]: Done  26 tasks      | elapsed:    2.8s\n[Parallel(n_jobs=-1)]: Done 176 tasks      | elapsed:    4.8s\n[Parallel(n_jobs=-1)]: Done 426 tasks      | elapsed:    8.3s\n[Parallel(n_jobs=-1)]: Done 776 tasks      | elapsed:   13.7s\nBest Score: 0.702570805083657\nBest param: {'simpleimputer__strategy': 'mean', 'randomforestclassifier__min_samples_split': 8, 'randomforestclassifier__max_depth': 8, 'randomforestclassifier__criterion': 'entropy'}\nBest estimaator: Pipeline(steps=[('simpleimputer', SimpleImputer()),\n                ('standardscaler', StandardScaler()),\n                ('randomforestclassifier',\n                 RandomForestClassifier(criterion='entropy', max_depth=8,\n                                        min_samples_split=8, n_estimators=9,\n                                        n_jobs=1, random_state=42))])\nWall time: 19.6 s\n[Parallel(n_jobs=-1)]: Done 1120 out of 1120 | elapsed:   19.4s finished\n"
    }
   ],
   "source": [
    "%%time\n",
    "pipeline = make_pipeline(\n",
    "    SimpleImputer(strategy='mean'),\n",
    "    StandardScaler(),\n",
    "    RandomForestClassifier(\n",
    "        n_jobs=1,\n",
    "        random_state=42,\n",
    "        n_estimators=9,\n",
    "    )\n",
    ")\n",
    "\n",
    "param_distributions = {\n",
    "    'simpleimputer__strategy': ['mean', 'median'],\n",
    "    'randomforestclassifier__criterion': ('gini', 'entropy'),\n",
    "    'randomforestclassifier__max_depth': (8,10,12,14,15,16,20,25),\n",
    "    'randomforestclassifier__min_samples_split': (2,4,6,8,10)\n",
    "}\n",
    "\n",
    "search = RandomizedSearchCV(\n",
    "    pipeline,\n",
    "    param_distributions=param_distributions,\n",
    "    n_iter=240,\n",
    "    cv=7,\n",
    "    scoring='accuracy',\n",
    "    verbose=1,\n",
    "    return_train_score=True,\n",
    "    n_jobs=-1,\n",
    ")\n",
    "\n",
    "search.fit(X_train,y_train)\n",
    "\n",
    "print('Best Score:',search.best_score_)\n",
    "print('Best param:',search.best_params_)\n",
    "print('Best estimaator:', search.best_estimator_)"
   ]
  },
  {
   "cell_type": "code",
   "execution_count": 879,
   "metadata": {
    "tags": []
   },
   "outputs": [
    {
     "output_type": "stream",
     "name": "stdout",
     "text": "Wall time: 1.85 s\n"
    },
    {
     "output_type": "execute_result",
     "data": {
      "text/plain": "Pipeline(steps=[('simpleimputer', SimpleImputer()),\n                ('standardscaler', StandardScaler()),\n                ('randomforestclassifier',\n                 RandomForestClassifier(criterion='entropy', max_depth=8,\n                                        min_samples_split=8, n_estimators=999,\n                                        n_jobs=-1, random_state=42))])"
     },
     "metadata": {},
     "execution_count": 879
    }
   ],
   "source": [
    "%%time\n",
    "pipe2 = make_pipeline(\n",
    "    SimpleImputer(strategy='mean'),\n",
    "    StandardScaler(),\n",
    "    RandomForestClassifier(criterion='entropy', max_depth=8,\n",
    "                                        min_samples_split=8, n_estimators=999,\n",
    "                                        n_jobs=-1, random_state=42)\n",
    "    )\n",
    "\n",
    "pipe2.fit(X_train,y_train)"
   ]
  },
  {
   "cell_type": "code",
   "execution_count": 880,
   "metadata": {
    "tags": []
   },
   "outputs": [],
   "source": [
    "pipe2_pred = pipe2.predict(X_test)"
   ]
  },
  {
   "cell_type": "code",
   "execution_count": 881,
   "metadata": {},
   "outputs": [
    {
     "output_type": "execute_result",
     "data": {
      "text/plain": "0.7108701695857659"
     },
     "metadata": {},
     "execution_count": 881
    }
   ],
   "source": [
    "accuracy_score(pipe2_pred,y_test)"
   ]
  },
  {
   "cell_type": "code",
   "execution_count": 882,
   "metadata": {},
   "outputs": [],
   "source": [
    "import pickle"
   ]
  },
  {
   "cell_type": "code",
   "execution_count": 883,
   "metadata": {},
   "outputs": [],
   "source": [
    "dill = pickle.dump(pipe2, open( \"kickstarter1.pkl\", \"wb\" ) )"
   ]
  },
  {
   "cell_type": "code",
   "execution_count": 31,
   "metadata": {},
   "outputs": [],
   "source": [
    "file_pickle = open(\"kickstarter.pkl\",'rb')"
   ]
  },
  {
   "cell_type": "code",
   "execution_count": 32,
   "metadata": {},
   "outputs": [],
   "source": [
    "clf2 = pickle.load(file_pickle)"
   ]
  },
  {
   "cell_type": "code",
   "execution_count": 33,
   "metadata": {},
   "outputs": [],
   "source": [
    "clf_pred = clf2.predict(X_test)"
   ]
  },
  {
   "cell_type": "code",
   "execution_count": 34,
   "metadata": {},
   "outputs": [
    {
     "output_type": "execute_result",
     "data": {
      "text/plain": "0.717065036131184"
     },
     "metadata": {},
     "execution_count": 34
    }
   ],
   "source": [
    "accuracy_score(clf_pred,y_test)"
   ]
  },
  {
   "cell_type": "code",
   "execution_count": null,
   "metadata": {},
   "outputs": [],
   "source": []
  }
 ]
}