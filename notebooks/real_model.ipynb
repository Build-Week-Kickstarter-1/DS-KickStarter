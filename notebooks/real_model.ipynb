{
 "metadata": {
  "language_info": {
   "codemirror_mode": {
    "name": "ipython",
    "version": 3
   },
   "file_extension": ".py",
   "mimetype": "text/x-python",
   "name": "python",
   "nbconvert_exporter": "python",
   "pygments_lexer": "ipython3",
   "version": "3.8.6-candidate"
  },
  "orig_nbformat": 2,
  "kernelspec": {
   "name": "python_defaultSpec_1601049397208",
   "display_name": "Python 3.8.6 64-bit ('DS-KickStarter': pipenv)",
   "metadata": {
    "interpreter": {
     "hash": "92efda5599aab558340c75c979adf80f34547e35b57f9cd4cb9494d010274a98"
    }
   }
  }
 },
 "nbformat": 4,
 "nbformat_minor": 2,
 "cells": [
  {
   "cell_type": "code",
   "execution_count": 3,
   "metadata": {
    "tags": []
   },
   "outputs": [
    {
     "output_type": "stream",
     "name": "stderr",
     "text": "[nltk_data] Downloading package stopwords to\n[nltk_data]     C:\\Users\\ivan4\\AppData\\Roaming\\nltk_data...\n[nltk_data]   Package stopwords is already up-to-date!\n"
    }
   ],
   "source": [
    "import pandas as pd \n",
    "import numpy as np\n",
    "\n",
    "from sklearn.model_selection import train_test_split\n",
    "from sklearn.metrics import classification_report\n",
    "\n",
    "import re\n",
    "import string\n",
    "import random\n",
    "\n",
    "\n",
    "from sklearn.feature_extraction.text import TfidfVectorizer, CountVectorizer\n",
    "from sklearn.pipeline import Pipeline\n",
    "from sklearn.base import TransformerMixin\n",
    "from sklearn.metrics import accuracy_score, recall_score, plot_confusion_matrix\n",
    "#from wordcloud import WordCloud\n",
    "import spacy\n",
    "from spacy.lang.en.stop_words import STOP_WORDS\n",
    "from spacy.lang.en import English\n",
    "\n",
    "from xgboost import XGBClassifier\n",
    "\n",
    "\n",
    "import warnings\n",
    "\n",
    "import nltk\n",
    "from nltk.corpus import stopwords\n",
    "nltk.download('stopwords')\n",
    "\n",
    "from sklearn.impute import SimpleImputer\n",
    "import category_encoders as ce\n",
    "from sklearn.preprocessing import StandardScaler\n",
    "from sklearn.pipeline import make_pipeline\n",
    "\n",
    "from pathlib import Path\n",
    "\n",
    "# import joblib\n",
    "import pickle"
   ]
  },
  {
   "cell_type": "code",
   "execution_count": 5,
   "metadata": {},
   "outputs": [],
   "source": [
    "df = pd.read_csv('kickstarter_data_with_features.csv',index_col=0)"
   ]
  },
  {
   "cell_type": "code",
   "execution_count": 6,
   "metadata": {},
   "outputs": [],
   "source": [
    "df = df[['name', 'goal', 'blurb', 'launched_at', 'deadline','category','state', 'country']] \n",
    "english_countries = ['US', 'IE', 'GB', 'AU', 'CA', 'NZ', ]"
   ]
  },
  {
   "cell_type": "code",
   "execution_count": 7,
   "metadata": {},
   "outputs": [],
   "source": [
    "df= df[df['country'].isin(english_countries)]"
   ]
  },
  {
   "cell_type": "code",
   "execution_count": 8,
   "metadata": {},
   "outputs": [],
   "source": [
    "suc_filt = ['failed', 'successful']\n",
    "df= df[df['state'].isin(suc_filt)]\n",
    "df['state'] = df['state'].replace({'failed': 0, 'successful': 1})"
   ]
  },
  {
   "cell_type": "code",
   "execution_count": 9,
   "metadata": {},
   "outputs": [],
   "source": [
    "columns = ['name','blurb', 'state']\n",
    "to_df = df.copy()\n",
    "to_df = to_df[columns]  \n",
    "to_df.fillna(' ', inplace=True)\n",
    "to_df['text']=to_df['name']+' '+to_df['blurb']"
   ]
  },
  {
   "cell_type": "code",
   "execution_count": 10,
   "metadata": {},
   "outputs": [],
   "source": [
    "punctuations = string.punctuation\n",
    "stop_words = spacy.lang.en.stop_words.STOP_WORDS\n",
    "parser = English()"
   ]
  },
  {
   "cell_type": "code",
   "execution_count": 11,
   "metadata": {},
   "outputs": [],
   "source": [
    "def spacy_tokenizer(sentence):\n",
    "    mytokens = parser(sentence)\n",
    "    mytokens = [ word.lemma_.lower().strip() if word.lemma_ != \"-PRON-\" else word.lower_ for word in mytokens ]\n",
    "    mytokens = [ word for word in mytokens if word not in stop_words and word not in punctuations ]\n",
    "    return mytokens"
   ]
  },
  {
   "cell_type": "code",
   "execution_count": 12,
   "metadata": {},
   "outputs": [],
   "source": [
    "class predictors(TransformerMixin):\n",
    "\n",
    "    def transform(self, X, **transform_params):\n",
    "            \n",
    "        return [clean_text(text) for text in X]\n",
    "\n",
    "    def fit(self, X, y=None, **fit_params):\n",
    "        return self\n",
    "\n",
    "    def get_params(self, deep=True):\n",
    "        return {}"
   ]
  },
  {
   "cell_type": "code",
   "execution_count": 19,
   "metadata": {},
   "outputs": [],
   "source": [
    "def clean_text(text):\n",
    "    # Removing spaces and converting text into lowercase\n",
    "    return text.strip().lower()"
   ]
  },
  {
   "cell_type": "code",
   "execution_count": 13,
   "metadata": {},
   "outputs": [],
   "source": [
    "bow_vector = CountVectorizer(tokenizer = spacy_tokenizer, ngram_range=(1,3))"
   ]
  },
  {
   "cell_type": "code",
   "execution_count": 14,
   "metadata": {},
   "outputs": [],
   "source": [
    "train, test = train_test_split(to_df, train_size=0.80, test_size=0.20, \n",
    "                                stratify= to_df['state'], random_state=3)\n",
    "\n",
    "train, val = train_test_split(train, train_size=0.80, test_size=0.20, \n",
    "                                stratify= train['state'], random_state=3)"
   ]
  },
  {
   "cell_type": "code",
   "execution_count": 15,
   "metadata": {},
   "outputs": [],
   "source": [
    "features = 'text'\n",
    "target = 'state'\n",
    "X_train = train[features]\n",
    "X_val = val[features]\n",
    "X_test = test[features]\n",
    "y_train = train[target]\n",
    "y_val = val[target]\n",
    "y_test = test[target]"
   ]
  },
  {
   "cell_type": "code",
   "execution_count": 16,
   "metadata": {},
   "outputs": [],
   "source": [
    "xgm = XGBClassifier(n_jobs=-1, max_depth=200, learning_rate=0.2, min_child_weight=5, )"
   ]
  },
  {
   "cell_type": "code",
   "execution_count": 17,
   "metadata": {},
   "outputs": [],
   "source": [
    "pipe = Pipeline([(\"cleaner\", predictors()),\n",
    "                    ('vectorizer', bow_vector),\n",
    "                    ('classifier', xgm)])"
   ]
  },
  {
   "cell_type": "code",
   "execution_count": 20,
   "metadata": {},
   "outputs": [
    {
     "output_type": "execute_result",
     "data": {
      "text/plain": "Pipeline(steps=[('cleaner', <__main__.predictors object at 0x0000014F06B0E430>),\n                ('vectorizer',\n                 CountVectorizer(ngram_range=(1, 3),\n                                 tokenizer=<function spacy_tokenizer at 0x0000014F03B8F4C0>)),\n                ('classifier',\n                 XGBClassifier(base_score=0.5, booster='gbtree',\n                               colsample_bylevel=1, colsample_bynode=1,\n                               colsample_bytree=1, gamma=0, gpu_id=-1,\n                               importance_type='gain',\n                               interaction_constraints='', learning_rate=0.2,\n                               max_delta_step=0, max_depth=200,\n                               min_child_weight=5, missing=nan,\n                               monotone_constraints='()', n_estimators=100,\n                               n_jobs=-1, num_parallel_tree=1, random_state=0,\n                               reg_alpha=0, reg_lambda=1, scale_pos_weight=1,\n                               subsample=1, tree_method='exact',\n                               validate_parameters=1, verbosity=None))])"
     },
     "metadata": {},
     "execution_count": 20
    }
   ],
   "source": [
    "pipe.fit(X_train,y_train)"
   ]
  },
  {
   "cell_type": "code",
   "execution_count": 21,
   "metadata": {},
   "outputs": [],
   "source": [
    "pipe_pred = pipe.predict(X_test)"
   ]
  },
  {
   "cell_type": "code",
   "execution_count": 23,
   "metadata": {},
   "outputs": [
    {
     "output_type": "execute_result",
     "data": {
      "text/plain": "0.7027883396704689"
     },
     "metadata": {},
     "execution_count": 23
    }
   ],
   "source": [
    "accuracy_score(pipe_pred,y_test)"
   ]
  },
  {
   "cell_type": "code",
   "execution_count": 25,
   "metadata": {},
   "outputs": [],
   "source": [
    "pickle.dump(pipe, open('pickle_model.pkl', 'wb'))"
   ]
  },
  {
   "cell_type": "code",
   "execution_count": null,
   "metadata": {},
   "outputs": [],
   "source": []
  }
 ]
}